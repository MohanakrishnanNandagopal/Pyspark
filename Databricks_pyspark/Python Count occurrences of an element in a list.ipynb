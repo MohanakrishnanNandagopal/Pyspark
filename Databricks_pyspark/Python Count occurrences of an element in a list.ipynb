{
 "cells": [
  {
   "cell_type": "code",
   "execution_count": 1,
   "id": "08a3a302",
   "metadata": {},
   "outputs": [],
   "source": [
    "#Excersice 1\n",
    "#Input: lst = [15, 6, 7, 10, 12, 20, 10, 28, 10], x = 10\n",
    "#Output: 3"
   ]
  },
  {
   "cell_type": "code",
   "execution_count": 3,
   "id": "48383290",
   "metadata": {},
   "outputs": [
    {
     "name": "stdout",
     "output_type": "stream",
     "text": [
      "x =10\n",
      "3\n"
     ]
    }
   ],
   "source": [
    "list1 = [15, 6, 7, 10, 12, 20, 10, 28, 10]\n",
    "number = int(input('x ='))\n",
    "count = 0\n",
    "for i in list1:\n",
    "    if i == number:\n",
    "        count=count+1\n",
    "print(count)"
   ]
  },
  {
   "cell_type": "code",
   "execution_count": 5,
   "id": "cf391fda",
   "metadata": {},
   "outputs": [
    {
     "name": "stdout",
     "output_type": "stream",
     "text": [
      "3\n"
     ]
    }
   ],
   "source": [
    "list1 = [15, 6, 7, 10, 12, 20, 10, 28, 10]\n",
    "count1 =list1.count(10)\n",
    "print(count1)"
   ]
  },
  {
   "cell_type": "code",
   "execution_count": 6,
   "id": "3cb487c5",
   "metadata": {},
   "outputs": [],
   "source": [
    "#Excercise 2\n",
    "#Input: [4, 5, 1, 2, 9, 7, 10, 8]\n",
    "#Output:\n",
    "#sum =  46\n",
    "#average =  5.75"
   ]
  },
  {
   "cell_type": "code",
   "execution_count": 10,
   "id": "69050c76",
   "metadata": {},
   "outputs": [
    {
     "name": "stdout",
     "output_type": "stream",
     "text": [
      "sum =  46\n",
      "average = 5.75\n"
     ]
    }
   ],
   "source": [
    "list1 =[4, 5, 1, 2, 9, 7, 10, 8]\n",
    "sum1 = 0 \n",
    "for i in list1:\n",
    "    sum1 = sum1 +i\n",
    "print('sum = ',sum1)\n",
    "average = sum1/len(list1)\n",
    "print('average =',average)\n"
   ]
  },
  {
   "cell_type": "code",
   "execution_count": 11,
   "id": "84f5bcd8",
   "metadata": {},
   "outputs": [
    {
     "name": "stdout",
     "output_type": "stream",
     "text": [
      "46\n"
     ]
    }
   ],
   "source": [
    "print(sum(list1))"
   ]
  },
  {
   "cell_type": "code",
   "execution_count": 19,
   "id": "21b79378",
   "metadata": {},
   "outputs": [
    {
     "name": "stdout",
     "output_type": "stream",
     "text": [
      "5.75\n"
     ]
    }
   ],
   "source": [
    "import statistics as st\n",
    "average = st.mean(list1)\n",
    "print(average)"
   ]
  },
  {
   "cell_type": "code",
   "execution_count": null,
   "id": "0c8f55b5",
   "metadata": {},
   "outputs": [],
   "source": [
    "#Python | Sum of number digits in List\n",
    "#The original list is : [12, 67, 98, 34]\n",
    "#List Integer Summation : [3, 13, 17, 7]  # doubt to be refer list comprehenssion and map..."
   ]
  },
  {
   "cell_type": "code",
   "execution_count": 69,
   "id": "a2d11bd3",
   "metadata": {},
   "outputs": [
    {
     "name": "stdout",
     "output_type": "stream",
     "text": [
      "[12, 67, 98, 34]\n"
     ]
    }
   ],
   "source": [
    "list1 = [12, 67, 98, 34]\n",
    "str_list = str(list1)\n",
    "print(str_list)\n",
    "    "
   ]
  },
  {
   "cell_type": "code",
   "execution_count": 55,
   "id": "b650beca",
   "metadata": {},
   "outputs": [
    {
     "name": "stdout",
     "output_type": "stream",
     "text": [
      "['1', '2', '3', '4', '5']\n"
     ]
    }
   ],
   "source": [
    "my_list = [1, 2, 3, 4, 5]\n",
    "string_list = [str(item) for item in my_list]\n",
    "print(string_list)"
   ]
  },
  {
   "cell_type": "code",
   "execution_count": 71,
   "id": "f2dda267",
   "metadata": {},
   "outputs": [
    {
     "name": "stdout",
     "output_type": "stream",
     "text": [
      "24\n"
     ]
    }
   ],
   "source": [
    "#Multiply all numbers in the list\n",
    "#Input :  list1 = [1, 2, 3]\n",
    "#Output : 6\n",
    "#Explanation: 1*2*3=6\n",
    "list1 = [3, 2, 4]\n",
    "total = 1\n",
    "for i in list1:\n",
    "    total = total*i\n",
    "print(total)\n",
    "    \n"
   ]
  },
  {
   "cell_type": "code",
   "execution_count": 130,
   "id": "aa17b114",
   "metadata": {},
   "outputs": [
    {
     "name": "stdout",
     "output_type": "stream",
     "text": [
      "4\n"
     ]
    }
   ],
   "source": [
    "#Python program to find smallest number in a list\n",
    "#Input : list1 = [10, 20, 4]\n",
    "#Output : 4\n",
    "list1 = [10,20, 4]\n",
    "small =list1[0]\n",
    "for i in range(len(list1)):\n",
    "    if (list1[i] < small):\n",
    "        small = list1[i]\n",
    "print(small)"
   ]
  },
  {
   "cell_type": "code",
   "execution_count": 132,
   "id": "345d6be9",
   "metadata": {},
   "outputs": [
    {
     "name": "stdout",
     "output_type": "stream",
     "text": [
      "100\n"
     ]
    }
   ],
   "source": [
    "#largest number in the list\n",
    "list1 = [10,20, 100,4]\n",
    "small =list1[0]\n",
    "for i in range(len(list1)):\n",
    "    if (list1[i] > small):\n",
    "        small = list1[i]\n",
    "print(small)"
   ]
  },
  {
   "cell_type": "code",
   "execution_count": 141,
   "id": "55918e33",
   "metadata": {},
   "outputs": [
    {
     "name": "stdout",
     "output_type": "stream",
     "text": [
      "20\n"
     ]
    }
   ],
   "source": [
    "#second largest number in the list..\n",
    "list1 = [10,20, 100,4]\n",
    "list1.sort(reverse = True)\n",
    "print(list1[1])"
   ]
  },
  {
   "cell_type": "code",
   "execution_count": 160,
   "id": "fc96fa5a",
   "metadata": {},
   "outputs": [
    {
     "name": "stdout",
     "output_type": "stream",
     "text": [
      "[1, 5]\n"
     ]
    }
   ],
   "source": [
    "#no of unique elements in the list\n",
    "#input_list = [1, 2, 2, 5, 8, 4, 4, 8]\n",
    "list1 =  [1, 2, 2, 5, 8, 4, 4, 8]\n",
    "list2 = []\n",
    "count = 0\n",
    "for i in list1:\n",
    "    count = list1.count(i)\n",
    "    if count == 1:\n",
    "        list2.append(i)\n",
    "print(list2)\n",
    "\n",
    "    \n",
    "    \n",
    "    \n",
    "        "
   ]
  },
  {
   "cell_type": "code",
   "execution_count": null,
   "id": "777630c1",
   "metadata": {},
   "outputs": [],
   "source": [
    "#Python – List product excluding duplicates\n",
    "#The original list is : [1, 3, 5, 6, 3, 5, 6, 1]\n",
    "#Duplication removal list product : 90"
   ]
  },
  {
   "cell_type": "code",
   "execution_count": 173,
   "id": "8f1a388d",
   "metadata": {},
   "outputs": [
    {
     "name": "stdout",
     "output_type": "stream",
     "text": [
      "1\n"
     ]
    },
    {
     "ename": "TypeError",
     "evalue": "argument of type 'int' is not iterable",
     "output_type": "error",
     "traceback": [
      "\u001b[1;31m---------------------------------------------------------------------------\u001b[0m",
      "\u001b[1;31mTypeError\u001b[0m                                 Traceback (most recent call last)",
      "Cell \u001b[1;32mIn[173], line 7\u001b[0m\n\u001b[0;32m      5\u001b[0m count\u001b[38;5;241m=\u001b[39mlist1\u001b[38;5;241m.\u001b[39mcount(i)\n\u001b[0;32m      6\u001b[0m \u001b[38;5;28;01mif\u001b[39;00m count\u001b[38;5;241m>\u001b[39m\u001b[38;5;241m=\u001b[39m\u001b[38;5;241m2\u001b[39m:\n\u001b[1;32m----> 7\u001b[0m     \u001b[38;5;28;01mif\u001b[39;00m i \u001b[38;5;129;01mnot\u001b[39;00m \u001b[38;5;129;01min\u001b[39;00m list2:\n\u001b[0;32m      8\u001b[0m         list2 \u001b[38;5;241m=\u001b[39m i\n\u001b[0;32m      9\u001b[0m         \u001b[38;5;28mprint\u001b[39m(list2)\n",
      "\u001b[1;31mTypeError\u001b[0m: argument of type 'int' is not iterable"
     ]
    }
   ],
   "source": [
    "list1 =[1, 3, 5, 6, 3, 5, 6, 1]\n",
    "list2 =[]\n",
    "product = 1\n",
    "for i in list1:\n",
    "    count=list1.count(i)\n",
    "    if count>=2:\n",
    "        if i not in list2:\n",
    "            list2 = i\n",
    "            print(list2)"
   ]
  },
  {
   "cell_type": "code",
   "execution_count": null,
   "id": "5d759142",
   "metadata": {},
   "outputs": [],
   "source": [
    "list1 =[1, 3, 5, 6, 3, 5, 6, 1]\n",
    "list2 = [5,3,1,7,8,]"
   ]
  }
 ],
 "metadata": {
  "kernelspec": {
   "display_name": "Python 3 (ipykernel)",
   "language": "python",
   "name": "python3"
  },
  "language_info": {
   "codemirror_mode": {
    "name": "ipython",
    "version": 3
   },
   "file_extension": ".py",
   "mimetype": "text/x-python",
   "name": "python",
   "nbconvert_exporter": "python",
   "pygments_lexer": "ipython3",
   "version": "3.11.5"
  }
 },
 "nbformat": 4,
 "nbformat_minor": 5
}

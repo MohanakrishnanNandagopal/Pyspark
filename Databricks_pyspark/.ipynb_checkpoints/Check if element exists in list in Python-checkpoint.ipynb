{
 "cells": [
  {
   "cell_type": "code",
   "execution_count": 1,
   "id": "82a006d2",
   "metadata": {},
   "outputs": [],
   "source": [
    "#Input: test_list = [1, 6, 3, 5, 3, 4]\n",
    "#            3  # Check if 3 exist or not.\n",
    "#Output: True\n",
    "#Explanation: The output is True because the element we are looking is exist in the list."
   ]
  },
  {
   "cell_type": "code",
   "execution_count": 21,
   "id": "0c1716a0",
   "metadata": {},
   "outputs": [
    {
     "name": "stdout",
     "output_type": "stream",
     "text": [
      "enter number : 3\n",
      "True\n"
     ]
    }
   ],
   "source": [
    "test_list = [1, 6, 3, 5, 3, 4]\n",
    "check = int(input(\"enter number : \"))\n",
    "print(check in test_list)"
   ]
  },
  {
   "cell_type": "code",
   "execution_count": 19,
   "id": "385159fa",
   "metadata": {},
   "outputs": [
    {
     "name": "stdout",
     "output_type": "stream",
     "text": [
      "enter number : 10\n",
      "False\n"
     ]
    }
   ],
   "source": [
    "test_list = [1, 6, 3, 5, 3, 4]\n",
    "check = int(input(\"enter number : \"))\n",
    "if check in test_list:\n",
    "    print(True)\n",
    "else:\n",
    "    print(False)"
   ]
  },
  {
   "cell_type": "code",
   "execution_count": 18,
   "id": "9df1b27b",
   "metadata": {},
   "outputs": [
    {
     "name": "stdout",
     "output_type": "stream",
     "text": [
      "enter number : 10\n"
     ]
    }
   ],
   "source": [
    "test_list = [1, 6, 3, 5, 3, 4]\n",
    "check = int(input(\"enter number : \"))\n",
    "for i in test_list:\n",
    "    if (check == i):\n",
    "        print('True')\n",
    "        break"
   ]
  },
  {
   "cell_type": "code",
   "execution_count": null,
   "id": "ebb72af6",
   "metadata": {},
   "outputs": [],
   "source": []
  }
 ],
 "metadata": {
  "kernelspec": {
   "display_name": "Python 3 (ipykernel)",
   "language": "python",
   "name": "python3"
  },
  "language_info": {
   "codemirror_mode": {
    "name": "ipython",
    "version": 3
   },
   "file_extension": ".py",
   "mimetype": "text/x-python",
   "name": "python",
   "nbconvert_exporter": "python",
   "pygments_lexer": "ipython3",
   "version": "3.11.5"
  }
 },
 "nbformat": 4,
 "nbformat_minor": 5
}

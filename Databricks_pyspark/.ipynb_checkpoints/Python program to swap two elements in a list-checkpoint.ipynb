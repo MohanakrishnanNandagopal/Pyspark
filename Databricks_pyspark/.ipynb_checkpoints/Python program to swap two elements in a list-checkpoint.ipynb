{
 "cells": [
  {
   "cell_type": "code",
   "execution_count": 1,
   "id": "92dd800d",
   "metadata": {},
   "outputs": [],
   "source": [
    "#Input : List = [23, 65, 19, 90], pos1 = 1, pos2 = 3\n",
    "#Output : [19, 65, 23, 90]"
   ]
  },
  {
   "cell_type": "code",
   "execution_count": 4,
   "id": "b5e73fd7",
   "metadata": {},
   "outputs": [
    {
     "name": "stdout",
     "output_type": "stream",
     "text": [
      "pos1 = 1\n",
      "pos2 = 3\n",
      "[19, 65, 23, 90]\n"
     ]
    }
   ],
   "source": [
    "list1 = [23, 65, 19, 90]\n",
    "pos1 = int(input('pos1 = '))\n",
    "pos2 = int(input('pos2 = '))\n",
    "temp = list1[pos1-1]\n",
    "list1[pos1-1] = list1[pos2-1]\n",
    "list1[pos2-1]= temp\n",
    "print(list1)"
   ]
  },
  {
   "cell_type": "code",
   "execution_count": null,
   "id": "5a56372c",
   "metadata": {},
   "outputs": [],
   "source": []
  }
 ],
 "metadata": {
  "kernelspec": {
   "display_name": "Python 3 (ipykernel)",
   "language": "python",
   "name": "python3"
  },
  "language_info": {
   "codemirror_mode": {
    "name": "ipython",
    "version": 3
   },
   "file_extension": ".py",
   "mimetype": "text/x-python",
   "name": "python",
   "nbconvert_exporter": "python",
   "pygments_lexer": "ipython3",
   "version": "3.11.5"
  }
 },
 "nbformat": 4,
 "nbformat_minor": 5
}

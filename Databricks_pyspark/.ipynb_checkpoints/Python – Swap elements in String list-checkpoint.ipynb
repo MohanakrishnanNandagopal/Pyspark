{
 "cells": [
  {
   "cell_type": "code",
   "execution_count": 1,
   "id": "cb6b78a6",
   "metadata": {},
   "outputs": [],
   "source": [
    "#Python – Swap elements in String list\n",
    "\n",
    "#The original list is : ['Gfg', 'is', 'best', 'for', 'Geeks']\n",
    "#List after performing character swaps : ['efg', 'is', 'bGst', 'for', 'eGGks']\n"
   ]
  },
  {
   "cell_type": "code",
   "execution_count": 15,
   "id": "19cdee83",
   "metadata": {},
   "outputs": [
    {
     "name": "stdout",
     "output_type": "stream",
     "text": [
      "efg\n",
      "is\n",
      "bGst\n",
      "for\n",
      "eGGks\n"
     ]
    }
   ],
   "source": [
    "str_list = ['Gfg', 'is', 'best', 'for', 'Geeks']\n",
    "for i in str_list:\n",
    "    swap = i.replace('G','-').replace('e','G').replace('-','e')\n",
    "    print(swap)"
   ]
  },
  {
   "cell_type": "code",
   "execution_count": null,
   "id": "01ba2371",
   "metadata": {},
   "outputs": [],
   "source": []
  },
  {
   "cell_type": "code",
   "execution_count": null,
   "id": "1ab5fc96",
   "metadata": {},
   "outputs": [],
   "source": []
  }
 ],
 "metadata": {
  "kernelspec": {
   "display_name": "Python 3 (ipykernel)",
   "language": "python",
   "name": "python3"
  },
  "language_info": {
   "codemirror_mode": {
    "name": "ipython",
    "version": 3
   },
   "file_extension": ".py",
   "mimetype": "text/x-python",
   "name": "python",
   "nbconvert_exporter": "python",
   "pygments_lexer": "ipython3",
   "version": "3.11.5"
  }
 },
 "nbformat": 4,
 "nbformat_minor": 5
}

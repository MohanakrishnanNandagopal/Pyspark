{
 "cells": [
  {
   "cell_type": "code",
   "execution_count": 1,
   "id": "9fe62ab6",
   "metadata": {},
   "outputs": [],
   "source": [
    "#Original List: [4, 8, 2, 10, 15, 18] \n",
    "#After Cloning: [4, 8, 2, 10, 15, 18] "
   ]
  },
  {
   "cell_type": "code",
   "execution_count": 2,
   "id": "7d95f7fc",
   "metadata": {},
   "outputs": [
    {
     "name": "stdout",
     "output_type": "stream",
     "text": [
      "[4, 8, 2, 10, 15, 18]\n"
     ]
    }
   ],
   "source": [
    "list1 = [4, 8, 2, 10, 15, 18]\n",
    "list2 = list1.copy()\n",
    "print(list2)"
   ]
  },
  {
   "cell_type": "code",
   "execution_count": 12,
   "id": "86a40c16",
   "metadata": {},
   "outputs": [
    {
     "name": "stdout",
     "output_type": "stream",
     "text": [
      "[4, 8, 2, 10, 15, 18]\n"
     ]
    }
   ],
   "source": [
    "list1 = [4, 8, 2, 10, 15, 18]\n",
    "list2 =[]\n",
    "for i in list1:\n",
    "    list2.append(i)\n",
    "print(list2)\n",
    "    "
   ]
  },
  {
   "cell_type": "code",
   "execution_count": 13,
   "id": "643aed30",
   "metadata": {},
   "outputs": [
    {
     "name": "stdout",
     "output_type": "stream",
     "text": [
      "[4, 8, 2, 10, 15, 18]\n"
     ]
    }
   ],
   "source": [
    "list1 = [4, 8, 2, 10, 15, 18]\n",
    "list2 = list1\n",
    "print(list2)"
   ]
  },
  {
   "cell_type": "code",
   "execution_count": 15,
   "id": "9799dde7",
   "metadata": {},
   "outputs": [
    {
     "name": "stdout",
     "output_type": "stream",
     "text": [
      "[4, 8, 2, 10, 15, 18]\n"
     ]
    }
   ],
   "source": [
    "list1 = [4, 8, 2, 10, 15, 18]\n",
    "for i in list1:\n",
    "    list2 = list1\n",
    "print(list2)"
   ]
  },
  {
   "cell_type": "code",
   "execution_count": null,
   "id": "a3c1160a",
   "metadata": {},
   "outputs": [],
   "source": []
  }
 ],
 "metadata": {
  "kernelspec": {
   "display_name": "Python 3 (ipykernel)",
   "language": "python",
   "name": "python3"
  },
  "language_info": {
   "codemirror_mode": {
    "name": "ipython",
    "version": 3
   },
   "file_extension": ".py",
   "mimetype": "text/x-python",
   "name": "python",
   "nbconvert_exporter": "python",
   "pygments_lexer": "ipython3",
   "version": "3.11.5"
  }
 },
 "nbformat": 4,
 "nbformat_minor": 5
}

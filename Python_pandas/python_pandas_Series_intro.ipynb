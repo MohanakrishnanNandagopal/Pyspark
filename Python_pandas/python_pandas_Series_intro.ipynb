{
 "cells": [
  {
   "cell_type": "code",
   "execution_count": 1,
   "id": "43ed27fd",
   "metadata": {},
   "outputs": [],
   "source": [
    "#Series - one dimensional labeled arrays of any data types\n",
    "      # - what is series - one dimensional sequence of values with associated labels"
   ]
  },
  {
   "cell_type": "code",
   "execution_count": 4,
   "id": "081e363f",
   "metadata": {},
   "outputs": [],
   "source": [
    "students = ['mohan','mike','papu']"
   ]
  },
  {
   "cell_type": "code",
   "execution_count": 3,
   "id": "d366ad7f",
   "metadata": {},
   "outputs": [],
   "source": [
    "import pandas as pd"
   ]
  },
  {
   "cell_type": "code",
   "execution_count": 5,
   "id": "260804af",
   "metadata": {},
   "outputs": [
    {
     "data": {
      "text/plain": [
       "0    mohan\n",
       "1     mike\n",
       "2     papu\n",
       "dtype: object"
      ]
     },
     "execution_count": 5,
     "metadata": {},
     "output_type": "execute_result"
    }
   ],
   "source": [
    "pd.Series(students)"
   ]
  },
  {
   "cell_type": "code",
   "execution_count": 6,
   "id": "a2b4f99e",
   "metadata": {},
   "outputs": [],
   "source": [
    "ages = [25,16,27]"
   ]
  },
  {
   "cell_type": "code",
   "execution_count": 7,
   "id": "3b440539",
   "metadata": {},
   "outputs": [
    {
     "data": {
      "text/plain": [
       "0    25\n",
       "1    16\n",
       "2    27\n",
       "dtype: int64"
      ]
     },
     "execution_count": 7,
     "metadata": {},
     "output_type": "execute_result"
    }
   ],
   "source": [
    "pd.Series(ages)"
   ]
  },
  {
   "cell_type": "code",
   "execution_count": 8,
   "id": "84541bec",
   "metadata": {},
   "outputs": [],
   "source": [
    "heights = [165.8,172.3,175.9]"
   ]
  },
  {
   "cell_type": "code",
   "execution_count": 9,
   "id": "927c988d",
   "metadata": {},
   "outputs": [
    {
     "data": {
      "text/plain": [
       "0    165.8\n",
       "1    172.3\n",
       "2    175.9\n",
       "dtype: float64"
      ]
     },
     "execution_count": 9,
     "metadata": {},
     "output_type": "execute_result"
    }
   ],
   "source": [
    "pd.Series(heights)"
   ]
  },
  {
   "cell_type": "code",
   "execution_count": 10,
   "id": "98cee7ed",
   "metadata": {},
   "outputs": [],
   "source": [
    "mixed = [True,'say',{'my_mood':100}]"
   ]
  },
  {
   "cell_type": "code",
   "execution_count": 11,
   "id": "46a00444",
   "metadata": {},
   "outputs": [
    {
     "data": {
      "text/plain": [
       "0                True\n",
       "1                 say\n",
       "2    {'my_mood': 100}\n",
       "dtype: object"
      ]
     },
     "execution_count": 11,
     "metadata": {},
     "output_type": "execute_result"
    }
   ],
   "source": [
    "pd.Series(mixed)"
   ]
  },
  {
   "cell_type": "code",
   "execution_count": 12,
   "id": "2e83924d",
   "metadata": {},
   "outputs": [],
   "source": [
    "#parameters and arguments"
   ]
  },
  {
   "cell_type": "code",
   "execution_count": 13,
   "id": "751bb29f",
   "metadata": {},
   "outputs": [],
   "source": [
    "Students = ['mike','mohan','krishnan']"
   ]
  },
  {
   "cell_type": "code",
   "execution_count": 14,
   "id": "d2cbfdb4",
   "metadata": {},
   "outputs": [
    {
     "data": {
      "text/plain": [
       "0        mike\n",
       "1       mohan\n",
       "2    krishnan\n",
       "dtype: object"
      ]
     },
     "execution_count": 14,
     "metadata": {},
     "output_type": "execute_result"
    }
   ],
   "source": [
    "pd.Series(Students)"
   ]
  },
  {
   "cell_type": "code",
   "execution_count": 15,
   "id": "12f39772",
   "metadata": {},
   "outputs": [
    {
     "data": {
      "text/plain": [
       "0        mike\n",
       "1       mohan\n",
       "2    krishnan\n",
       "dtype: object"
      ]
     },
     "execution_count": 15,
     "metadata": {},
     "output_type": "execute_result"
    }
   ],
   "source": [
    "#this is actually\n",
    "pd.Series(data = Students)"
   ]
  },
  {
   "cell_type": "code",
   "execution_count": 16,
   "id": "099859ee",
   "metadata": {},
   "outputs": [],
   "source": [
    "# here data is the parameters which is actually holds the value in the variables and Students  holds the actual values"
   ]
  },
  {
   "cell_type": "code",
   "execution_count": null,
   "id": "148c18ee",
   "metadata": {},
   "outputs": [],
   "source": []
  },
  {
   "cell_type": "code",
   "execution_count": 17,
   "id": "3a5ddbf4",
   "metadata": {},
   "outputs": [],
   "source": [
    "#what is in data ?"
   ]
  },
  {
   "cell_type": "code",
   "execution_count": 34,
   "id": "b9bb7ba8",
   "metadata": {},
   "outputs": [],
   "source": [
    "books_list =['moondru mugam','pollathavan','darbar']"
   ]
  },
  {
   "cell_type": "code",
   "execution_count": 35,
   "id": "ee8c4d10",
   "metadata": {},
   "outputs": [
    {
     "data": {
      "text/plain": [
       "0    moondru mugam\n",
       "1      pollathavan\n",
       "2           darbar\n",
       "dtype: object"
      ]
     },
     "execution_count": 35,
     "metadata": {},
     "output_type": "execute_result"
    }
   ],
   "source": [
    "pd.Series(books_list)"
   ]
  },
  {
   "cell_type": "code",
   "execution_count": 36,
   "id": "537622fe",
   "metadata": {},
   "outputs": [],
   "source": [
    "#here the indexes are creating automatically"
   ]
  },
  {
   "cell_type": "code",
   "execution_count": 37,
   "id": "31b87930",
   "metadata": {},
   "outputs": [
    {
     "ename": "SyntaxError",
     "evalue": "invalid syntax (4240550972.py, line 2)",
     "output_type": "error",
     "traceback": [
      "\u001b[1;36m  Cell \u001b[1;32mIn[37], line 2\u001b[1;36m\u001b[0m\n\u001b[1;33m    books_list =[0:'moondru mugam',1:'pollathavan',2:'darbar']\u001b[0m\n\u001b[1;37m                  ^\u001b[0m\n\u001b[1;31mSyntaxError\u001b[0m\u001b[1;31m:\u001b[0m invalid syntax\n"
     ]
    }
   ],
   "source": [
    "#in python while creating list it looks like the below in back end every values will be assign by some index..its looks like dictionary\n",
    "books_list =[0:'moondru mugam',1:'pollathavan',2:'darbar']"
   ]
  },
  {
   "cell_type": "code",
   "execution_count": 38,
   "id": "4ffaadd9",
   "metadata": {},
   "outputs": [],
   "source": [
    "books_dict ={0:'moondru mugam',1:'pollathavan',2:'darbar'}"
   ]
  },
  {
   "cell_type": "code",
   "execution_count": 39,
   "id": "1c9af8d9",
   "metadata": {},
   "outputs": [
    {
     "data": {
      "text/plain": [
       "0    moondru mugam\n",
       "1      pollathavan\n",
       "2           darbar\n",
       "dtype: object"
      ]
     },
     "execution_count": 39,
     "metadata": {},
     "output_type": "execute_result"
    }
   ],
   "source": [
    "pd.Series(books_dict)"
   ]
  },
  {
   "cell_type": "code",
   "execution_count": 40,
   "id": "301a53d8",
   "metadata": {},
   "outputs": [],
   "source": [
    "#to check the equality between the list and others"
   ]
  },
  {
   "cell_type": "code",
   "execution_count": 41,
   "id": "69934825",
   "metadata": {},
   "outputs": [
    {
     "ename": "AttributeError",
     "evalue": "'list' object has no attribute 'equals'",
     "output_type": "error",
     "traceback": [
      "\u001b[1;31m---------------------------------------------------------------------------\u001b[0m",
      "\u001b[1;31mAttributeError\u001b[0m                            Traceback (most recent call last)",
      "Cell \u001b[1;32mIn[41], line 1\u001b[0m\n\u001b[1;32m----> 1\u001b[0m \u001b[38;5;28mprint\u001b[39m(books_list\u001b[38;5;241m.\u001b[39mequals(books_dict))\n",
      "\u001b[1;31mAttributeError\u001b[0m: 'list' object has no attribute 'equals'"
     ]
    }
   ],
   "source": [
    "print(books_list.equals(books_dict))"
   ]
  },
  {
   "cell_type": "code",
   "execution_count": 42,
   "id": "e37c39a3",
   "metadata": {},
   "outputs": [],
   "source": [
    "#list object ha no attributes equals..so assign the books_list to some variable"
   ]
  },
  {
   "cell_type": "code",
   "execution_count": 45,
   "id": "ec3f18fa",
   "metadata": {},
   "outputs": [],
   "source": [
    "book_s = pd.Series(books_list)\n",
    "book_b = pd.Series(books_dict)"
   ]
  },
  {
   "cell_type": "code",
   "execution_count": 47,
   "id": "9f519ea8",
   "metadata": {},
   "outputs": [
    {
     "name": "stdout",
     "output_type": "stream",
     "text": [
      "True\n"
     ]
    }
   ],
   "source": [
    "print(book_s.equals(book_b))"
   ]
  },
  {
   "cell_type": "code",
   "execution_count": 48,
   "id": "3f7330d1",
   "metadata": {},
   "outputs": [],
   "source": [
    "# dtype attributes"
   ]
  },
  {
   "cell_type": "code",
   "execution_count": 49,
   "id": "8b8aaa68",
   "metadata": {},
   "outputs": [
    {
     "data": {
      "text/plain": [
       "[25, 16, 27]"
      ]
     },
     "execution_count": 49,
     "metadata": {},
     "output_type": "execute_result"
    }
   ],
   "source": [
    "ages"
   ]
  },
  {
   "cell_type": "code",
   "execution_count": 50,
   "id": "231142e5",
   "metadata": {},
   "outputs": [
    {
     "data": {
      "text/plain": [
       "0    25\n",
       "1    16\n",
       "2    27\n",
       "dtype: int64"
      ]
     },
     "execution_count": 50,
     "metadata": {},
     "output_type": "execute_result"
    }
   ],
   "source": [
    "pd.Series(ages)"
   ]
  },
  {
   "cell_type": "code",
   "execution_count": 53,
   "id": "1a857a54",
   "metadata": {},
   "outputs": [
    {
     "data": {
      "text/plain": [
       "0    25.0\n",
       "1    16.0\n",
       "2    27.0\n",
       "dtype: float64"
      ]
     },
     "execution_count": 53,
     "metadata": {},
     "output_type": "execute_result"
    }
   ],
   "source": [
    "pd.Series(data =ages,dtype = 'float')"
   ]
  },
  {
   "cell_type": "code",
   "execution_count": 54,
   "id": "e2b000e3",
   "metadata": {},
   "outputs": [
    {
     "data": {
      "text/plain": [
       "['mohan', 'mike', 'papu']"
      ]
     },
     "execution_count": 54,
     "metadata": {},
     "output_type": "execute_result"
    }
   ],
   "source": [
    "students"
   ]
  },
  {
   "cell_type": "code",
   "execution_count": 59,
   "id": "9f3824d7",
   "metadata": {},
   "outputs": [],
   "source": [
    "d_students = pd.Series(students)"
   ]
  },
  {
   "cell_type": "code",
   "execution_count": 60,
   "id": "6d482648",
   "metadata": {},
   "outputs": [],
   "source": [
    "#for string values the dtype is in object"
   ]
  },
  {
   "cell_type": "code",
   "execution_count": 61,
   "id": "4aab7ec1",
   "metadata": {},
   "outputs": [
    {
     "data": {
      "text/plain": [
       "dtype('O')"
      ]
     },
     "execution_count": 61,
     "metadata": {},
     "output_type": "execute_result"
    }
   ],
   "source": [
    "d_students.dtype\n"
   ]
  },
  {
   "cell_type": "code",
   "execution_count": 64,
   "id": "4f8de606",
   "metadata": {},
   "outputs": [],
   "source": [
    "#what is dtype('O') is ?\n",
    "#for numpy the another python library which stores the  values of homogenous type \n",
    "#if any one of the values in the array having string datatype the entire values in the list will acts as a string"
   ]
  },
  {
   "cell_type": "code",
   "execution_count": 65,
   "id": "7eaef081",
   "metadata": {},
   "outputs": [],
   "source": [
    "heights2 =[165.5,134.5,145.8] #dtype: float64"
   ]
  },
  {
   "cell_type": "code",
   "execution_count": 66,
   "id": "3611fac2",
   "metadata": {},
   "outputs": [],
   "source": [
    "h_s= pd.Series(heights2)"
   ]
  },
  {
   "cell_type": "code",
   "execution_count": 67,
   "id": "6a713302",
   "metadata": {},
   "outputs": [
    {
     "data": {
      "text/plain": [
       "0    165.5\n",
       "1    134.5\n",
       "2    145.8\n",
       "dtype: float64"
      ]
     },
     "execution_count": 67,
     "metadata": {},
     "output_type": "execute_result"
    }
   ],
   "source": [
    "h_s"
   ]
  },
  {
   "cell_type": "code",
   "execution_count": 68,
   "id": "1a79de30",
   "metadata": {},
   "outputs": [],
   "source": [
    "heights2 =[165.5,'134.5',145.8] #dtype: object"
   ]
  },
  {
   "cell_type": "code",
   "execution_count": 69,
   "id": "efb2f677",
   "metadata": {},
   "outputs": [
    {
     "data": {
      "text/plain": [
       "0    165.5\n",
       "1    134.5\n",
       "2    145.8\n",
       "dtype: object"
      ]
     },
     "execution_count": 69,
     "metadata": {},
     "output_type": "execute_result"
    }
   ],
   "source": [
    "pd.Series(heights2)"
   ]
  },
  {
   "cell_type": "code",
   "execution_count": 70,
   "id": "fc00edbf",
   "metadata": {},
   "outputs": [],
   "source": [
    "#index and rangeindex"
   ]
  },
  {
   "cell_type": "code",
   "execution_count": 71,
   "id": "c127d5b8",
   "metadata": {},
   "outputs": [],
   "source": [
    "#index - we can give our own index to the list"
   ]
  },
  {
   "cell_type": "code",
   "execution_count": 72,
   "id": "a71a964d",
   "metadata": {},
   "outputs": [
    {
     "data": {
      "text/plain": [
       "['moondru mugam', 'pollathavan', 'darbar']"
      ]
     },
     "execution_count": 72,
     "metadata": {},
     "output_type": "execute_result"
    }
   ],
   "source": [
    "books_list"
   ]
  },
  {
   "cell_type": "code",
   "execution_count": 73,
   "id": "522ad747",
   "metadata": {},
   "outputs": [],
   "source": [
    "own_index = pd.Series(books_list,index = ['action_drama','drama','action'])"
   ]
  },
  {
   "cell_type": "code",
   "execution_count": 74,
   "id": "4a22870e",
   "metadata": {},
   "outputs": [
    {
     "name": "stdout",
     "output_type": "stream",
     "text": [
      "action_drama    moondru mugam\n",
      "drama             pollathavan\n",
      "action                 darbar\n",
      "dtype: object\n"
     ]
    }
   ],
   "source": [
    "print(own_index)"
   ]
  },
  {
   "cell_type": "code",
   "execution_count": 75,
   "id": "16e023c0",
   "metadata": {},
   "outputs": [],
   "source": [
    "own_index = pd.Series(books_list,index = ['action_drama','drama','action'],dtype='object')#we can also specify the required datatype based on the values"
   ]
  },
  {
   "cell_type": "code",
   "execution_count": 76,
   "id": "8ea753c9",
   "metadata": {},
   "outputs": [
    {
     "name": "stdout",
     "output_type": "stream",
     "text": [
      "action_drama    moondru mugam\n",
      "drama             pollathavan\n",
      "action                 darbar\n",
      "dtype: object\n"
     ]
    }
   ],
   "source": [
    "print(own_index)"
   ]
  },
  {
   "cell_type": "code",
   "execution_count": 77,
   "id": "d0d32f5f",
   "metadata": {},
   "outputs": [
    {
     "data": {
      "text/plain": [
       "Index(['action_drama', 'drama', 'action'], dtype='object')"
      ]
     },
     "execution_count": 77,
     "metadata": {},
     "output_type": "execute_result"
    }
   ],
   "source": [
    "own_index.index"
   ]
  },
  {
   "cell_type": "code",
   "execution_count": 79,
   "id": "0cafcde5",
   "metadata": {},
   "outputs": [
    {
     "data": {
      "text/plain": [
       "<function list.index(value, start=0, stop=9223372036854775807, /)>"
      ]
     },
     "execution_count": 79,
     "metadata": {},
     "output_type": "execute_result"
    }
   ],
   "source": [
    "heights.index"
   ]
  },
  {
   "cell_type": "code",
   "execution_count": 80,
   "id": "23f9a3af",
   "metadata": {},
   "outputs": [],
   "source": [
    "list_s =['rajini','kamal','vijayakanth']"
   ]
  },
  {
   "cell_type": "code",
   "execution_count": 84,
   "id": "f107fd72",
   "metadata": {},
   "outputs": [],
   "source": [
    "list_ss = pd.Series(list_s)"
   ]
  },
  {
   "cell_type": "code",
   "execution_count": 85,
   "id": "6c5774a0",
   "metadata": {},
   "outputs": [
    {
     "data": {
      "text/plain": [
       "RangeIndex(start=0, stop=3, step=1)"
      ]
     },
     "execution_count": 85,
     "metadata": {},
     "output_type": "execute_result"
    }
   ],
   "source": [
    "list_ss.index"
   ]
  },
  {
   "cell_type": "code",
   "execution_count": 86,
   "id": "c68ef748",
   "metadata": {},
   "outputs": [
    {
     "data": {
      "text/plain": [
       "pandas.core.indexes.range.RangeIndex"
      ]
     },
     "execution_count": 86,
     "metadata": {},
     "output_type": "execute_result"
    }
   ],
   "source": [
    "type(list_ss.index)"
   ]
  },
  {
   "cell_type": "code",
   "execution_count": 87,
   "id": "8b7e6232",
   "metadata": {},
   "outputs": [],
   "source": [
    "#we can create our own range index"
   ]
  },
  {
   "cell_type": "code",
   "execution_count": 88,
   "id": "42c0d520",
   "metadata": {},
   "outputs": [],
   "source": [
    "range_ind = pd.RangeIndex(start = 1,stop = 7,step = 1)"
   ]
  },
  {
   "cell_type": "code",
   "execution_count": 90,
   "id": "3c7e54d6",
   "metadata": {},
   "outputs": [
    {
     "name": "stdout",
     "output_type": "stream",
     "text": [
      "RangeIndex(start=1, stop=7, step=1)\n"
     ]
    }
   ],
   "source": [
    "print(range_ind)"
   ]
  },
  {
   "cell_type": "code",
   "execution_count": 91,
   "id": "66f0b97b",
   "metadata": {},
   "outputs": [
    {
     "data": {
      "text/plain": [
       "[1, 2, 3, 4, 5, 6]"
      ]
     },
     "execution_count": 91,
     "metadata": {},
     "output_type": "execute_result"
    }
   ],
   "source": [
    "list(range_ind)"
   ]
  },
  {
   "cell_type": "code",
   "execution_count": 97,
   "id": "d07d8537",
   "metadata": {},
   "outputs": [
    {
     "data": {
      "text/plain": [
       "[10, 9, 8, 7, 6, 5, 4, 3, 2, 1, 0, -1, -2, -3, -4, -5, -6, -7, -8, -9, -10]"
      ]
     },
     "execution_count": 97,
     "metadata": {},
     "output_type": "execute_result"
    }
   ],
   "source": [
    "list(pd.RangeIndex(start = 10,stop = -11,step = -1))#it exclude the stop values"
   ]
  },
  {
   "cell_type": "code",
   "execution_count": null,
   "id": "3781c755",
   "metadata": {},
   "outputs": [],
   "source": []
  },
  {
   "cell_type": "code",
   "execution_count": null,
   "id": "405ea4e9",
   "metadata": {},
   "outputs": [],
   "source": []
  }
 ],
 "metadata": {
  "kernelspec": {
   "display_name": "Python 3 (ipykernel)",
   "language": "python",
   "name": "python3"
  },
  "language_info": {
   "codemirror_mode": {
    "name": "ipython",
    "version": 3
   },
   "file_extension": ".py",
   "mimetype": "text/x-python",
   "name": "python",
   "nbconvert_exporter": "python",
   "pygments_lexer": "ipython3",
   "version": "3.11.5"
  }
 },
 "nbformat": 4,
 "nbformat_minor": 5
}

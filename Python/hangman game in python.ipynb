{
 "cells": [
  {
   "cell_type": "code",
   "execution_count": 1,
   "id": "76d35246",
   "metadata": {},
   "outputs": [],
   "source": [
    "#you have a six life within that you have to find the word"
   ]
  },
  {
   "cell_type": "code",
   "execution_count": null,
   "id": "07e9574a",
   "metadata": {},
   "outputs": [
    {
     "name": "stdout",
     "output_type": "stream",
     "text": [
      "enter a letter : m\n",
      "letter is not in the word\n"
     ]
    }
   ],
   "source": [
    "word = ['mohan']\n",
    "find = ['-----']\n",
    "for i in range(1,7):\n",
    "    letter = input('enter a letter : ')\n",
    "    if letter in word:\n",
    "        pos = word.index(letter)\n",
    "        print(find.insert(pos,letter))  \n",
    "    else:\n",
    "        print('letter is not in the word')"
   ]
  },
  {
   "cell_type": "code",
   "execution_count": 9,
   "id": "c7bc95e0",
   "metadata": {},
   "outputs": [
    {
     "name": "stdout",
     "output_type": "stream",
     "text": [
      "enter a letter : m\n",
      "not in the list\n"
     ]
    }
   ],
   "source": [
    "word = ['mohan']\n",
    "find = ['-----']\n",
    "letter = input('enter a letter : ')\n",
    "if letter in word:\n",
    "    pos = word.index(letter)\n",
    "    print(find.insert(pos,letter))\n",
    "else:\n",
    "    print('not in the list')\n"
   ]
  },
  {
   "cell_type": "code",
   "execution_count": 8,
   "id": "01e30698",
   "metadata": {},
   "outputs": [
    {
     "name": "stdout",
     "output_type": "stream",
     "text": [
      "enter a letter : m\n",
      "0\n"
     ]
    }
   ],
   "source": [
    "word = 'mojan'\n",
    "letter = input('enter a letter : ')\n",
    "print(word.index(letter))\n"
   ]
  },
  {
   "cell_type": "code",
   "execution_count": null,
   "id": "2fdba578",
   "metadata": {},
   "outputs": [],
   "source": [
    "word = ['mohan']\n",
    "letter = input('enter a letter : ')\n",
    "    if letter in word:\n",
    "        print(letter)"
   ]
  },
  {
   "cell_type": "code",
   "execution_count": null,
   "id": "ae3bbf78",
   "metadata": {},
   "outputs": [],
   "source": []
  }
 ],
 "metadata": {
  "kernelspec": {
   "display_name": "Python 3 (ipykernel)",
   "language": "python",
   "name": "python3"
  },
  "language_info": {
   "codemirror_mode": {
    "name": "ipython",
    "version": 3
   },
   "file_extension": ".py",
   "mimetype": "text/x-python",
   "name": "python",
   "nbconvert_exporter": "python",
   "pygments_lexer": "ipython3",
   "version": "3.11.5"
  }
 },
 "nbformat": 4,
 "nbformat_minor": 5
}

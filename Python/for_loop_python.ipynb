{
 "cells": [
  {
   "cell_type": "code",
   "execution_count": 2,
   "id": "848b8038",
   "metadata": {},
   "outputs": [],
   "source": [
    "#for loop in python - iterator..\n",
    "#doing same action repeatedly..\n",
    "#syntax..\n",
    "# for variable_name in sequence:\n",
    "#    statements\n",
    "# here sequence may be in string,list,tuple,dictionary,set.\n",
    "#careful with the indentation causing error.."
   ]
  },
  {
   "cell_type": "code",
   "execution_count": 9,
   "id": "37ab3e84",
   "metadata": {},
   "outputs": [
    {
     "name": "stdout",
     "output_type": "stream",
     "text": [
      "baskar\n",
      "mohan\n",
      "tamil\n",
      "parkavi\n"
     ]
    }
   ],
   "source": [
    "names = {'mohan','parkavi','tamil','baskar'}\n",
    "for name in names:\n",
    "    print(name)"
   ]
  },
  {
   "cell_type": "code",
   "execution_count": 8,
   "id": "ac38a8b8",
   "metadata": {},
   "outputs": [
    {
     "name": "stdout",
     "output_type": "stream",
     "text": [
      "m\n",
      "o\n",
      "h\n",
      "a\n",
      "n\n",
      "a\n",
      " \n",
      "k\n",
      "r\n",
      "i\n",
      "s\n",
      "h\n",
      "n\n",
      "a\n",
      "n\n"
     ]
    }
   ],
   "source": [
    "name = 'mohana krishnan'\n",
    "for i in name:\n",
    "    print(i)"
   ]
  },
  {
   "cell_type": "code",
   "execution_count": 13,
   "id": "2a240ea5",
   "metadata": {},
   "outputs": [
    {
     "name": "stdout",
     "output_type": "stream",
     "text": [
      "m   o   h   a   n   a       k   r   i   s   h   n   a   n   "
     ]
    }
   ],
   "source": [
    "name = 'mohana krishnan'\n",
    "for i in name:\n",
    "    print(i,end='   ')"
   ]
  },
  {
   "cell_type": "code",
   "execution_count": 22,
   "id": "a27f0aa9",
   "metadata": {},
   "outputs": [
    {
     "name": "stdout",
     "output_type": "stream",
     "text": [
      "the square of the elements in the list is [4, 9, 25, 4, 100]\n"
     ]
    }
   ],
   "source": [
    "#find the square of the elements in the list and load it in another list\n",
    "list1 = [2,3,5,-2,10]\n",
    "l1 = []\n",
    "for i in list1:\n",
    "    square = i**2\n",
    "    l1.append(square)\n",
    "print(f'the square of the elements in the list is {l1}')\n"
   ]
  },
  {
   "cell_type": "code",
   "execution_count": 24,
   "id": "7481b9a3",
   "metadata": {},
   "outputs": [],
   "source": [
    "#for-else loop in python: \n",
    "#syntax\n",
    "\n",
    "#for variable_name in sequence:\n",
    "     #statements\n",
    "#else:\n",
    "    #statements\n",
    "    \n",
    "    \n",
    "#how it works...?\n",
    "#else part will run only when the for loop excecutes fine /terminated successfully completely/with no error otherwise it wont run..\n"
   ]
  },
  {
   "cell_type": "code",
   "execution_count": 27,
   "id": "640eb44a",
   "metadata": {},
   "outputs": [
    {
     "name": "stdout",
     "output_type": "stream",
     "text": [
      "2\n",
      "3\n",
      "5\n",
      "-1\n",
      "0\n",
      "33\n",
      "for loop excecuted successfully\n"
     ]
    }
   ],
   "source": [
    "#example\n",
    "number = [2,3,5,-1,0,33]\n",
    "for i in number:\n",
    "    print(i)\n",
    "else:\n",
    "    print('for loop excecuted successfully')"
   ]
  },
  {
   "cell_type": "code",
   "execution_count": 29,
   "id": "4f01b4e4",
   "metadata": {},
   "outputs": [
    {
     "name": "stdout",
     "output_type": "stream",
     "text": [
      "2\n",
      "3\n",
      "5\n",
      "-1\n",
      "0\n"
     ]
    }
   ],
   "source": [
    "#example\n",
    "number = [2,3,5,-1,0,33]\n",
    "for i in number:\n",
    "    print(i)\n",
    "    if (i == 0):\n",
    "        break; # forcefully terminates the for loop\n",
    "else:\n",
    "    print('for loop excecuted successfully')"
   ]
  },
  {
   "cell_type": "code",
   "execution_count": 34,
   "id": "7179520f",
   "metadata": {},
   "outputs": [
    {
     "name": "stdout",
     "output_type": "stream",
     "text": [
      "There is no number is divisible by 6 in the sequence\n"
     ]
    }
   ],
   "source": [
    "tuple1 = (2,56,34,35,-1)\n",
    "for i in tuple1:\n",
    "    if i%6 == 0:\n",
    "        print(i)\n",
    "        break\n",
    "else:\n",
    "    print('There is no number is divisible by 6 in the sequence')"
   ]
  },
  {
   "cell_type": "code",
   "execution_count": null,
   "id": "02514228",
   "metadata": {},
   "outputs": [],
   "source": []
  }
 ],
 "metadata": {
  "kernelspec": {
   "display_name": "Python 3 (ipykernel)",
   "language": "python",
   "name": "python3"
  },
  "language_info": {
   "codemirror_mode": {
    "name": "ipython",
    "version": 3
   },
   "file_extension": ".py",
   "mimetype": "text/x-python",
   "name": "python",
   "nbconvert_exporter": "python",
   "pygments_lexer": "ipython3",
   "version": "3.11.5"
  }
 },
 "nbformat": 4,
 "nbformat_minor": 5
}

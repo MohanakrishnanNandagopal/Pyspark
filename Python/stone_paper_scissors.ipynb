{
 "cells": [
  {
   "cell_type": "code",
   "execution_count": 35,
   "id": "207f95cd",
   "metadata": {},
   "outputs": [
    {
     "name": "stdout",
     "output_type": "stream",
     "text": [
      "enter your turn : 2\n",
      "computer turn :  1\n",
      "user wins\n"
     ]
    }
   ],
   "source": [
    "import random as rd\n",
    "user_choice = int(input('enter your turn : '))\n",
    "if (user_choice >= 3):\n",
    "    print('enter less than 3 ')\n",
    "else:\n",
    "    computer_choice = rd.randint(0,2)\n",
    "    print('computer turn : ',computer_choice)\n",
    "    if (user_choice == computer_choice):\n",
    "        print('draw')\n",
    "    if (user_choice < computer_choice) or (computer_choice == 2 and user_choice == 0):\n",
    "        print('computer wins') \n",
    "    if (user_choice > computer_choice) or (computer_choice == 0 and user_choice == 2):\n",
    "        print('user wins')\n",
    " \n"
   ]
  },
  {
   "cell_type": "markdown",
   "id": "480943b7",
   "metadata": {},
   "source": []
  },
  {
   "cell_type": "code",
   "execution_count": null,
   "id": "0473b6fb",
   "metadata": {},
   "outputs": [],
   "source": []
  }
 ],
 "metadata": {
  "kernelspec": {
   "display_name": "Python 3 (ipykernel)",
   "language": "python",
   "name": "python3"
  },
  "language_info": {
   "codemirror_mode": {
    "name": "ipython",
    "version": 3
   },
   "file_extension": ".py",
   "mimetype": "text/x-python",
   "name": "python",
   "nbconvert_exporter": "python",
   "pygments_lexer": "ipython3",
   "version": "3.11.5"
  }
 },
 "nbformat": 4,
 "nbformat_minor": 5
}

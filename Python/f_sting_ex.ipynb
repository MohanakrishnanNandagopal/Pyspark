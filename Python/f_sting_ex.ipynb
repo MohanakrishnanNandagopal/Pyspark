{
 "cells": [
  {
   "cell_type": "code",
   "execution_count": 2,
   "id": "60992065",
   "metadata": {},
   "outputs": [
    {
     "name": "stdout",
     "output_type": "stream",
     "text": [
      "enter your current age :26\n",
      "you have 23360 days, 3328 weeks, 768 months\n"
     ]
    }
   ],
   "source": [
    "current_age = int(input(\"enter your current age :\"))\n",
    "age_remaining = 90 - current_age\n",
    "days = age_remaining*365\n",
    "weeks = age_remaining*52\n",
    "months = age_remaining*12\n",
    "print(f\"you have {days} days, {weeks} weeks, {months} months\")"
   ]
  },
  {
   "cell_type": "code",
   "execution_count": null,
   "id": "8093b37e",
   "metadata": {},
   "outputs": [],
   "source": []
  }
 ],
 "metadata": {
  "kernelspec": {
   "display_name": "Python 3 (ipykernel)",
   "language": "python",
   "name": "python3"
  },
  "language_info": {
   "codemirror_mode": {
    "name": "ipython",
    "version": 3
   },
   "file_extension": ".py",
   "mimetype": "text/x-python",
   "name": "python",
   "nbconvert_exporter": "python",
   "pygments_lexer": "ipython3",
   "version": "3.11.5"
  }
 },
 "nbformat": 4,
 "nbformat_minor": 5
}

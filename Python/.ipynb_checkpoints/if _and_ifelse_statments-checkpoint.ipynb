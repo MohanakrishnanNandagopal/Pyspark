{
 "cells": [
  {
   "cell_type": "code",
   "execution_count": 2,
   "id": "80d452e2",
   "metadata": {},
   "outputs": [],
   "source": [
    "#conditional statements -- use this when the applictions needs a conditional requirment"
   ]
  },
  {
   "cell_type": "code",
   "execution_count": 4,
   "id": "ee454742",
   "metadata": {},
   "outputs": [],
   "source": [
    "#if condition:\n",
    "    #do_this\n",
    "else\n",
    "    #do_this"
   ]
  },
  {
   "cell_type": "code",
   "execution_count": 8,
   "id": "144c4648",
   "metadata": {},
   "outputs": [
    {
     "name": "stdout",
     "output_type": "stream",
     "text": [
      "enter the height in feet : 4\n",
      "buy long dresses\n"
     ]
    }
   ],
   "source": [
    "height = int(input(\"enter the height in feet : \"))\n",
    "if(height<3):\n",
    "    print('buy short dresses')\n",
    "else:\n",
    "    print('buy long dresses')"
   ]
  },
  {
   "cell_type": "code",
   "execution_count": 9,
   "id": "737170fa",
   "metadata": {},
   "outputs": [
    {
     "name": "stdout",
     "output_type": "stream",
     "text": [
      "enter the height in feet : 10\n",
      "buy long dresses\n"
     ]
    }
   ],
   "source": [
    "height = int(input(\"enter the height in feet : \"))\n",
    "if(height<3):\n",
    "    print('buy short dresses')\n",
    "print('buy long dresses')"
   ]
  },
  {
   "cell_type": "code",
   "execution_count": 10,
   "id": "70b34cf4",
   "metadata": {},
   "outputs": [],
   "source": [
    "#excercise - check the given number is even or odd"
   ]
  },
  {
   "cell_type": "code",
   "execution_count": 3,
   "id": "1a7c8f3f",
   "metadata": {},
   "outputs": [
    {
     "name": "stdout",
     "output_type": "stream",
     "text": [
      "enter the number to check : 10\n",
      "number is even\n"
     ]
    }
   ],
   "source": [
    "number = int(input(\"enter the number to check : \"))\n",
    "if number%2==0:\n",
    "    print('number is even')\n",
    "else:\n",
    "    print('number is odd')"
   ]
  },
  {
   "cell_type": "code",
   "execution_count": null,
   "id": "b778de81",
   "metadata": {},
   "outputs": [],
   "source": [
    "#nested_if - if within the if"
   ]
  },
  {
   "cell_type": "code",
   "execution_count": 4,
   "id": "30f7f03d",
   "metadata": {},
   "outputs": [],
   "source": [
    "#if condition:\n",
    "    #do_this\n",
    "    #if condition:  --\n",
    "        #do_this    -- nested_if\n",
    "    #else:          --\n",
    "        #do_this    --\n",
    "#else:\n",
    "    #do_this"
   ]
  },
  {
   "cell_type": "code",
   "execution_count": 7,
   "id": "15ae6103",
   "metadata": {},
   "outputs": [
    {
     "name": "stdout",
     "output_type": "stream",
     "text": [
      "enter your height : 1\n",
      "you can't ride \n",
      "thankyou\n"
     ]
    }
   ],
   "source": [
    "height = int(input(\"enter your height : \"))\n",
    "if height > 3:\n",
    "    print(\"you can ride\")\n",
    "    age = int(input(\"enter your ages : \"))\n",
    "    if age < 18:\n",
    "        print(\"you have to pay 250\")\n",
    "    else:\n",
    "        print(\"you have to pay 500\")\n",
    "else:\n",
    "    print(\"you can't ride \")\n",
    "print(\"thankyou\")"
   ]
  },
  {
   "cell_type": "code",
   "execution_count": 12,
   "id": "4ea203b0",
   "metadata": {},
   "outputs": [
    {
     "name": "stdout",
     "output_type": "stream",
     "text": [
      "enter your height : 13\n",
      "you can ride\n",
      "enter your ages : 13\n",
      " you have to pay 350\n",
      "thankyou\n"
     ]
    }
   ],
   "source": [
    "height = int(input(\"enter your height : \"))\n",
    "if height > 3:\n",
    "    print(\"you can ride\")\n",
    "    age = int(input(\"enter your ages : \"))\n",
    "    if age < 12:\n",
    "        print(\"you have to pay 250\")\n",
    "    elif (age >12) and (age <= 18):\n",
    "        print(\" you have to pay 350\")\n",
    "    else:\n",
    "        print(\"you have to pay 500\")\n",
    "else:\n",
    "    print(\"you can't ride \")\n",
    "print(\"thankyou\")"
   ]
  },
  {
   "cell_type": "code",
   "execution_count": 13,
   "id": "cf0bae60",
   "metadata": {},
   "outputs": [],
   "source": [
    "#Excercise for elif"
   ]
  },
  {
   "cell_type": "code",
   "execution_count": 16,
   "id": "77106d8f",
   "metadata": {},
   "outputs": [
    {
     "name": "stdout",
     "output_type": "stream",
     "text": [
      "enter your height (m): 1.73\n",
      "enter your weight (kg) : 63\n",
      "Overweight(Pre-obese)\n"
     ]
    }
   ],
   "source": [
    "height = float(input(\"enter your height (m): \"))\n",
    "weight = float(input(\"enter your weight (kg) : \"))\n",
    "bmi = weight/(height)**2\n",
    "if (bmi <16.0):\n",
    "    print(\"Underweight(Severe thinness)\")\n",
    "elif (16.1>=bmi<=16.9):\n",
    "    print(\"Underweight(Moderate thinness)\")\n",
    "elif (17.1>=bmi<=18.4):\n",
    "    print(\"Underweight(Mild thinness)\")\n",
    "elif (18.5>=bmi<=24.9):\n",
    "    print(\"Normal\")\n",
    "elif (25.0>=bmi<=29.9):\n",
    "    print(\"Overweight(Pre-obese)\")\n",
    "elif (30.0>=bmi<=34.9):\n",
    "    print(\"Obese(Class I)\")\n",
    "elif (35.0>=bmi<=39.9):\n",
    "    print(\"Obese(Class II)\")\n",
    "elif (bmi>=40):\n",
    "    print(\"Obese(Class III)\")\n",
    "else:\n",
    "    print(\"Invalid BMI\")\n",
    "\n"
   ]
  },
  {
   "cell_type": "code",
   "execution_count": 17,
   "id": "4e856661",
   "metadata": {},
   "outputs": [],
   "source": [
    "#to check the year is leap year or not a leap year"
   ]
  },
  {
   "cell_type": "code",
   "execution_count": 22,
   "id": "5dadb2f7",
   "metadata": {},
   "outputs": [
    {
     "name": "stdout",
     "output_type": "stream",
     "text": [
      "enter the year : 1904\n",
      "1904 is a leap year\n"
     ]
    }
   ],
   "source": [
    "year = int(input(\"enter the year : \"))\n",
    "if (year % 4 == 0):\n",
    "    if(year % 100 == 0):\n",
    "        if(year % 400 == 0):\n",
    "            print(f'{year} is a leap year')\n",
    "        else:\n",
    "\n",
    "            print(f\"{year} is not a leap year\")\n",
    "    else:\n",
    "        print(f\"{year} is a leap year\")\n",
    "else:\n",
    "    print(f\"{year} is not a leap year\")\n",
    "        \n",
    "        "
   ]
  },
  {
   "cell_type": "code",
   "execution_count": 37,
   "id": "a6bdfaa2",
   "metadata": {},
   "outputs": [
    {
     "name": "stdout",
     "output_type": "stream",
     "text": [
      "enter the size of the pizza : small\n",
      "Do you want any add_on : y\n",
      "pepperoni or cheese :cheese\n"
     ]
    },
    {
     "ename": "AttributeError",
     "evalue": "'function' object has no attribute 'price'",
     "output_type": "error",
     "traceback": [
      "\u001b[1;31m---------------------------------------------------------------------------\u001b[0m",
      "\u001b[1;31mAttributeError\u001b[0m                            Traceback (most recent call last)",
      "Cell \u001b[1;32mIn[37], line 27\u001b[0m\n\u001b[0;32m     24\u001b[0m                 price \u001b[38;5;241m=\u001b[39m pizza_order\u001b[38;5;241m.\u001b[39mprice \u001b[38;5;241m+\u001b[39m \u001b[38;5;241m20\u001b[39m\n\u001b[0;32m     26\u001b[0m pizza_order()\n\u001b[1;32m---> 27\u001b[0m add_on()\n",
      "Cell \u001b[1;32mIn[37], line 24\u001b[0m, in \u001b[0;36madd_on\u001b[1;34m()\u001b[0m\n\u001b[0;32m     22\u001b[0m         price \u001b[38;5;241m=\u001b[39m pizza_order\u001b[38;5;241m.\u001b[39mprice \u001b[38;5;241m+\u001b[39m \u001b[38;5;241m50\u001b[39m\n\u001b[0;32m     23\u001b[0m \u001b[38;5;28;01mif\u001b[39;00m(choice\u001b[38;5;241m.\u001b[39mupper() \u001b[38;5;241m==\u001b[39m \u001b[38;5;124m\"\u001b[39m\u001b[38;5;124mCHEESE\u001b[39m\u001b[38;5;124m\"\u001b[39m):\n\u001b[1;32m---> 24\u001b[0m         price \u001b[38;5;241m=\u001b[39m pizza_order\u001b[38;5;241m.\u001b[39mprice \u001b[38;5;241m+\u001b[39m \u001b[38;5;241m20\u001b[39m\n",
      "\u001b[1;31mAttributeError\u001b[0m: 'function' object has no attribute 'price'"
     ]
    }
   ],
   "source": [
    "\n",
    "def pizza_order():\n",
    "    global pizza_size,price\n",
    "    pizza_size = input(\"enter the size of the pizza : \")\n",
    "    price = 0\n",
    "    if(pizza_size.upper() == \"SMALL\"):\n",
    "        price = price + 100\n",
    "    elif(pizza_size.upper() == \"MEDIUM\"):\n",
    "        price = price + 200\n",
    "    elif(pizza_size.upper() == \"LARGE\"):\n",
    "        price = price + 200\n",
    "    else:\n",
    "        print(\"enter a valid size\")\n",
    "\n",
    "def add_on():\n",
    "    add_on = input(\"Do you want any add_on : \")\n",
    "    if(add_on.upper() == 'Y'):\n",
    "        choice = input('pepperoni or cheese :')\n",
    "        if(choice.upper() == \"PEPPERONI\"):\n",
    "            if(pizza_order.pizza_size == 'SMALL'):\n",
    "                price = pizza_order.price + 30\n",
    "            elif(pizza_order.pizza_size == 'LARGE'):\n",
    "                price = pizza_order.price + 50\n",
    "        if(choice.upper() == \"CHEESE\"):\n",
    "                price = pizza_order.price + 20\n",
    "            \n",
    "pizza_order()\n",
    "add_on()\n",
    "        "
   ]
  },
  {
   "cell_type": "code",
   "execution_count": 38,
   "id": "8d4debcc",
   "metadata": {},
   "outputs": [],
   "source": [
    "# getting error must rectify while dicussing on function"
   ]
  },
  {
   "cell_type": "code",
   "execution_count": 39,
   "id": "e4aeebfc",
   "metadata": {},
   "outputs": [],
   "source": [
    "#Excercise 2 love calculator"
   ]
  },
  {
   "cell_type": "code",
   "execution_count": 16,
   "id": "1a98beef",
   "metadata": {},
   "outputs": [
    {
     "name": "stdout",
     "output_type": "stream",
     "text": [
      "enter your name :mohana krishnan\n",
      "enter your partner name :parkavi\n",
      "22%\n"
     ]
    }
   ],
   "source": [
    "name   = input('enter your name :').lower()\n",
    "name_1 = input('enter your partner name :').lower()\n",
    "name_2 = name+name_1\n",
    "word   = 'true'\n",
    "word_1 = 'love'\n",
    "count  = 0\n",
    "count_1 = 0\n",
    "for i in name_2:\n",
    "    if i in word:\n",
    "        count = count + 1\n",
    "for j in name_2:\n",
    "    if j in word_1:\n",
    "        count_1 = count_1 + 1\n",
    "\n",
    "print(str(count)+str(count)+'%')"
   ]
  },
  {
   "cell_type": "code",
   "execution_count": null,
   "id": "c29ccf2f",
   "metadata": {},
   "outputs": [],
   "source": [
    "\n",
    "    "
   ]
  },
  {
   "cell_type": "code",
   "execution_count": null,
   "id": "7629b7fc",
   "metadata": {},
   "outputs": [],
   "source": []
  }
 ],
 "metadata": {
  "kernelspec": {
   "display_name": "Python 3 (ipykernel)",
   "language": "python",
   "name": "python3"
  },
  "language_info": {
   "codemirror_mode": {
    "name": "ipython",
    "version": 3
   },
   "file_extension": ".py",
   "mimetype": "text/x-python",
   "name": "python",
   "nbconvert_exporter": "python",
   "pygments_lexer": "ipython3",
   "version": "3.11.5"
  }
 },
 "nbformat": 4,
 "nbformat_minor": 5
}

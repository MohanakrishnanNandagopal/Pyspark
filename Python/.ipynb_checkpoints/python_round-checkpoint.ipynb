{
 "cells": [
  {
   "cell_type": "code",
   "execution_count": 2,
   "id": "030cc994",
   "metadata": {},
   "outputs": [],
   "source": [
    "#round - to round the float values\n",
    "# if the required place have greater than 5 it will add one count otherwise less 1"
   ]
  },
  {
   "cell_type": "code",
   "execution_count": 3,
   "id": "b631a4c0",
   "metadata": {},
   "outputs": [
    {
     "name": "stdout",
     "output_type": "stream",
     "text": [
      "22\n"
     ]
    }
   ],
   "source": [
    "print(round(21.55))"
   ]
  },
  {
   "cell_type": "code",
   "execution_count": 4,
   "id": "9a873822",
   "metadata": {},
   "outputs": [
    {
     "name": "stdout",
     "output_type": "stream",
     "text": [
      "31.1247\n"
     ]
    }
   ],
   "source": [
    "print(round(31.12467,4))"
   ]
  },
  {
   "cell_type": "code",
   "execution_count": 6,
   "id": "2806e346",
   "metadata": {},
   "outputs": [
    {
     "name": "stdout",
     "output_type": "stream",
     "text": [
      "7\n",
      "7\n",
      "8\n",
      "2.67\n",
      "3.0\n"
     ]
    }
   ],
   "source": [
    "print(round(7))\n",
    "print(round(7,2))\n",
    "print(round(7.66))\n",
    "print(round(2.6666,2))\n",
    "print(round(2.6657,0))"
   ]
  },
  {
   "cell_type": "code",
   "execution_count": 7,
   "id": "5ed24e8e",
   "metadata": {},
   "outputs": [],
   "source": [
    "#if the 1st parameters decimal values and 2nd parameters has values then the result is float "
   ]
  },
  {
   "cell_type": "code",
   "execution_count": 8,
   "id": "9113a479",
   "metadata": {},
   "outputs": [
    {
     "name": "stdout",
     "output_type": "stream",
     "text": [
      "7\n",
      "8\n"
     ]
    }
   ],
   "source": [
    "print(round(7.3))\n",
    "print(round(7.5))"
   ]
  },
  {
   "cell_type": "code",
   "execution_count": 9,
   "id": "932d70bb",
   "metadata": {},
   "outputs": [
    {
     "name": "stdout",
     "output_type": "stream",
     "text": [
      "12\n",
      "12\n"
     ]
    }
   ],
   "source": [
    "print(round(11.5))\n",
    "print(round(12.5))"
   ]
  },
  {
   "cell_type": "code",
   "execution_count": 10,
   "id": "4138bfbf",
   "metadata": {},
   "outputs": [
    {
     "name": "stdout",
     "output_type": "stream",
     "text": [
      "16\n"
     ]
    }
   ],
   "source": [
    "print(round(15.5))"
   ]
  },
  {
   "cell_type": "code",
   "execution_count": 11,
   "id": "92effa91",
   "metadata": {},
   "outputs": [
    {
     "name": "stdout",
     "output_type": "stream",
     "text": [
      "14\n"
     ]
    }
   ],
   "source": [
    "print(round(14.5))"
   ]
  },
  {
   "cell_type": "code",
   "execution_count": 12,
   "id": "b8958b90",
   "metadata": {},
   "outputs": [
    {
     "name": "stdout",
     "output_type": "stream",
     "text": [
      "6\n"
     ]
    }
   ],
   "source": [
    "print(round(6.5))"
   ]
  },
  {
   "cell_type": "code",
   "execution_count": 13,
   "id": "be02e48c",
   "metadata": {},
   "outputs": [
    {
     "name": "stdout",
     "output_type": "stream",
     "text": [
      "8\n"
     ]
    }
   ],
   "source": [
    "print(round(7.5))"
   ]
  },
  {
   "cell_type": "code",
   "execution_count": 15,
   "id": "2818d052",
   "metadata": {},
   "outputs": [
    {
     "name": "stdout",
     "output_type": "stream",
     "text": [
      "674\n"
     ]
    }
   ],
   "source": [
    "print(round(674,2))"
   ]
  },
  {
   "cell_type": "code",
   "execution_count": 16,
   "id": "c03c76a1",
   "metadata": {},
   "outputs": [
    {
     "name": "stdout",
     "output_type": "stream",
     "text": [
      "670\n"
     ]
    }
   ],
   "source": [
    "print(round(674,-1))"
   ]
  },
  {
   "cell_type": "code",
   "execution_count": 17,
   "id": "eb9c9a24",
   "metadata": {},
   "outputs": [
    {
     "name": "stdout",
     "output_type": "stream",
     "text": [
      "700\n"
     ]
    }
   ],
   "source": [
    "print(round(674,-2))"
   ]
  },
  {
   "cell_type": "code",
   "execution_count": 18,
   "id": "f3238501",
   "metadata": {},
   "outputs": [
    {
     "name": "stdout",
     "output_type": "stream",
     "text": [
      "0\n"
     ]
    }
   ],
   "source": [
    "print(round(674,-5))"
   ]
  },
  {
   "cell_type": "code",
   "execution_count": 19,
   "id": "abbce3d2",
   "metadata": {},
   "outputs": [
    {
     "name": "stdout",
     "output_type": "stream",
     "text": [
      "-3\n"
     ]
    }
   ],
   "source": [
    "print(round(-8/3))"
   ]
  },
  {
   "cell_type": "code",
   "execution_count": 20,
   "id": "236b71e4",
   "metadata": {},
   "outputs": [
    {
     "name": "stdout",
     "output_type": "stream",
     "text": [
      "-2\n"
     ]
    }
   ],
   "source": [
    "print(round(-1.5))"
   ]
  },
  {
   "cell_type": "code",
   "execution_count": 23,
   "id": "56477c6b",
   "metadata": {},
   "outputs": [
    {
     "name": "stdout",
     "output_type": "stream",
     "text": [
      "-2.67\n"
     ]
    }
   ],
   "source": [
    "print(round(-8/3,2))"
   ]
  },
  {
   "cell_type": "code",
   "execution_count": null,
   "id": "5cababef",
   "metadata": {},
   "outputs": [],
   "source": []
  }
 ],
 "metadata": {
  "kernelspec": {
   "display_name": "Python 3 (ipykernel)",
   "language": "python",
   "name": "python3"
  },
  "language_info": {
   "codemirror_mode": {
    "name": "ipython",
    "version": 3
   },
   "file_extension": ".py",
   "mimetype": "text/x-python",
   "name": "python",
   "nbconvert_exporter": "python",
   "pygments_lexer": "ipython3",
   "version": "3.11.5"
  }
 },
 "nbformat": 4,
 "nbformat_minor": 5
}

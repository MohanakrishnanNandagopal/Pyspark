{
 "cells": [
  {
   "cell_type": "code",
   "execution_count": 1,
   "id": "f98cecef",
   "metadata": {},
   "outputs": [],
   "source": [
    "#Nested_list - list within the list\n"
   ]
  },
  {
   "cell_type": "code",
   "execution_count": 2,
   "id": "819940a8",
   "metadata": {},
   "outputs": [],
   "source": [
    "numbers  = [1,2,3,4,[5,6,7,8,[9,10],11],12,13,14,15]"
   ]
  },
  {
   "cell_type": "code",
   "execution_count": 3,
   "id": "e37d53d0",
   "metadata": {},
   "outputs": [
    {
     "data": {
      "text/plain": [
       "[1, 2, 3, 4, [5, 6, 7, 8, [9, 10], 11], 12, 13, 14, 15]"
      ]
     },
     "execution_count": 3,
     "metadata": {},
     "output_type": "execute_result"
    }
   ],
   "source": [
    "numbers"
   ]
  },
  {
   "cell_type": "code",
   "execution_count": 4,
   "id": "5739b78e",
   "metadata": {},
   "outputs": [
    {
     "data": {
      "text/plain": [
       "9"
      ]
     },
     "execution_count": 4,
     "metadata": {},
     "output_type": "execute_result"
    }
   ],
   "source": [
    "len(numbers)"
   ]
  },
  {
   "cell_type": "code",
   "execution_count": 5,
   "id": "913f9748",
   "metadata": {},
   "outputs": [],
   "source": [
    "#accessisng nested list through index"
   ]
  },
  {
   "cell_type": "code",
   "execution_count": 6,
   "id": "91629f64",
   "metadata": {},
   "outputs": [
    {
     "name": "stdout",
     "output_type": "stream",
     "text": [
      "[9, 10]\n"
     ]
    }
   ],
   "source": [
    "print(numbers[4][4])"
   ]
  },
  {
   "cell_type": "code",
   "execution_count": 7,
   "id": "f1433cf1",
   "metadata": {},
   "outputs": [
    {
     "name": "stdout",
     "output_type": "stream",
     "text": [
      "[5, 6, 7, 8, [9, 10]]\n"
     ]
    }
   ],
   "source": [
    "print(numbers[4][:5])"
   ]
  },
  {
   "cell_type": "code",
   "execution_count": 8,
   "id": "88aacb3b",
   "metadata": {},
   "outputs": [],
   "source": [
    "mix_list = [10,34,90,['mohan','shayam','ram'],89]"
   ]
  },
  {
   "cell_type": "code",
   "execution_count": 9,
   "id": "8309b825",
   "metadata": {},
   "outputs": [
    {
     "name": "stdout",
     "output_type": "stream",
     "text": [
      "ram\n"
     ]
    }
   ],
   "source": [
    "print(mix_list[3][2])"
   ]
  },
  {
   "cell_type": "code",
   "execution_count": null,
   "id": "f1bb5299",
   "metadata": {},
   "outputs": [],
   "source": [
    "#Excersise "
   ]
  },
  {
   "cell_type": "code",
   "execution_count": null,
   "id": "c9a2842d",
   "metadata": {},
   "outputs": [],
   "source": [
    "n = int(input('enter row : '))\n",
    "m = int(input('enter col : '))\n",
    "list1 = [[1,1,1],[1,1,1],[1,1,1]]\n",
    "list1[n][m] = 'x'\n",
    "print(list1)"
   ]
  },
  {
   "cell_type": "code",
   "execution_count": null,
   "id": "a3acb8eb",
   "metadata": {},
   "outputs": [],
   "source": []
  }
 ],
 "metadata": {
  "kernelspec": {
   "display_name": "Python 3 (ipykernel)",
   "language": "python",
   "name": "python3"
  },
  "language_info": {
   "codemirror_mode": {
    "name": "ipython",
    "version": 3
   },
   "file_extension": ".py",
   "mimetype": "text/x-python",
   "name": "python",
   "nbconvert_exporter": "python",
   "pygments_lexer": "ipython3",
   "version": "3.11.5"
  }
 },
 "nbformat": 4,
 "nbformat_minor": 5
}

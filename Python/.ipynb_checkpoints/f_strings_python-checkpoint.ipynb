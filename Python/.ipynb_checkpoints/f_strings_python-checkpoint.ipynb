{
 "cells": [
  {
   "cell_type": "code",
   "execution_count": 1,
   "id": "3a44194f",
   "metadata": {},
   "outputs": [],
   "source": [
    "#f_string is used to add values in between the strings whatever the values are.."
   ]
  },
  {
   "cell_type": "code",
   "execution_count": 7,
   "id": "38c0f6cb",
   "metadata": {},
   "outputs": [],
   "source": [
    "NAME = 'MOHAN'"
   ]
  },
  {
   "cell_type": "code",
   "execution_count": 8,
   "id": "f978e0cc",
   "metadata": {},
   "outputs": [],
   "source": [
    "AGE = 26"
   ]
  },
  {
   "cell_type": "code",
   "execution_count": 9,
   "id": "cff0ff84",
   "metadata": {},
   "outputs": [],
   "source": [
    "HEIGHT = 1.73 "
   ]
  },
  {
   "cell_type": "code",
   "execution_count": 10,
   "id": "e0e11b50",
   "metadata": {},
   "outputs": [
    {
     "name": "stdout",
     "output_type": "stream",
     "text": [
      "MY NAME IS MOHAN MY AGE IS 26 AND MY HEIGHT IS 1.73\n"
     ]
    }
   ],
   "source": [
    "print(f\"MY NAME IS {NAME} MY AGE IS {AGE} AND MY HEIGHT IS {HEIGHT}\")"
   ]
  },
  {
   "cell_type": "code",
   "execution_count": 11,
   "id": "fda25dd0",
   "metadata": {},
   "outputs": [],
   "source": [
    "#Excersice"
   ]
  },
  {
   "cell_type": "code",
   "execution_count": 12,
   "id": "508a64fa",
   "metadata": {},
   "outputs": [],
   "source": [
    "#enter your current age calculate the days weeks and months till 90 years"
   ]
  },
  {
   "cell_type": "code",
   "execution_count": null,
   "id": "6f0a1465",
   "metadata": {},
   "outputs": [],
   "source": [
    "current_age = int(input(\"enter your current age :\"))\n",
    "age_remaining = 90 - current_age\n",
    "days = age_remaining*365\n",
    "weeks = age_remaining*52\n",
    "months = age_remaining*12\n",
    "print(\"you have {days} days, {weeks} weeks, {months} months\")"
   ]
  },
  {
   "cell_type": "code",
   "execution_count": null,
   "id": "a4ca62ce",
   "metadata": {},
   "outputs": [],
   "source": []
  }
 ],
 "metadata": {
  "kernelspec": {
   "display_name": "Python 3 (ipykernel)",
   "language": "python",
   "name": "python3"
  },
  "language_info": {
   "codemirror_mode": {
    "name": "ipython",
    "version": 3
   },
   "file_extension": ".py",
   "mimetype": "text/x-python",
   "name": "python",
   "nbconvert_exporter": "python",
   "pygments_lexer": "ipython3",
   "version": "3.11.5"
  }
 },
 "nbformat": 4,
 "nbformat_minor": 5
}

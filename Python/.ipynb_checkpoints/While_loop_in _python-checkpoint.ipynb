{
 "cells": [
  {
   "cell_type": "code",
   "execution_count": 1,
   "id": "b58516e1",
   "metadata": {},
   "outputs": [],
   "source": [
    "#how while loop is difference from for loop\n",
    "#when to use while loop\n",
    "#syntax\n",
    "#while condtion/expression:#if the condition is false it will exits from the while loop\n",
    "    #statement\n",
    "#else:\n",
    "    #statement\n",
    "    \n",
    "#when to use the while loop there is already a loop having for loop\n",
    "#in for loop user know beforehand how many time the loop will run for a sequence object.\n",
    "#in while loop user don't know the number of iteration..it will run based on the condition if the condition is true the loop will contiue..\n",
    "\n",
    "#else part in while loop..\n",
    "#it will exceute this if the while part is forcefully terminates..\n"
   ]
  },
  {
   "cell_type": "code",
   "execution_count": 2,
   "id": "b1420046",
   "metadata": {},
   "outputs": [
    {
     "name": "stdout",
     "output_type": "stream",
     "text": [
      "1\n",
      "2\n",
      "3\n",
      "4\n",
      "5\n",
      "in the else part\n"
     ]
    }
   ],
   "source": [
    "count = 1\n",
    "while count<=5:\n",
    "    print(count)\n",
    "    count +=1 # the while part is completed without any termination..\n",
    "else:\n",
    "    print('in the else part') #so the else part will run.."
   ]
  },
  {
   "cell_type": "code",
   "execution_count": 3,
   "id": "961fdaff",
   "metadata": {},
   "outputs": [
    {
     "name": "stdout",
     "output_type": "stream",
     "text": [
      "1\n",
      "2\n",
      "outside the while loop\n"
     ]
    }
   ],
   "source": [
    "count = 1\n",
    "while count<=5:\n",
    "    print(count)\n",
    "    count+=1\n",
    "    if count == 3:\n",
    "        break    #we forcefully terminates the while loop using break so the else part wont run...\n",
    "else:\n",
    "    print('in the else block')\n",
    "print('outside the while loop')"
   ]
  },
  {
   "cell_type": "code",
   "execution_count": 5,
   "id": "771bafb6",
   "metadata": {},
   "outputs": [
    {
     "name": "stdout",
     "output_type": "stream",
     "text": [
      "1\n",
      "in the else part\n",
      "outside the while loop\n"
     ]
    }
   ],
   "source": [
    "count = 1\n",
    "while count<2:\n",
    "    print(count)\n",
    "    count +=1 # the while part is completed without any termination..\n",
    "else:\n",
    "    print('in the else part') \n",
    "print('outside the while loop')"
   ]
  },
  {
   "cell_type": "code",
   "execution_count": null,
   "id": "faa44131",
   "metadata": {},
   "outputs": [],
   "source": [
    "num = int(input('enter number :'))\n",
    "while num != -1:\n",
    "    num = int(input('enter number -1 to quit'))\n",
    "    print(num)\n",
    "else:\n",
    "    print('else part')\n",
    "print('out of the else part')"
   ]
  },
  {
   "cell_type": "code",
   "execution_count": null,
   "id": "f350b170",
   "metadata": {},
   "outputs": [],
   "source": [
    "num = int(input('enter number :'))\n",
    "sum1 = num\n",
    "while True:\n",
    "    num = int(input('enter number :'))\n",
    "    sum1=sum1+num\n",
    "    if num == 0:\n",
    "        break\n",
    "print('total is ',sum1)"
   ]
  },
  {
   "cell_type": "code",
   "execution_count": null,
   "id": "5c596299",
   "metadata": {},
   "outputs": [],
   "source": []
  }
 ],
 "metadata": {
  "kernelspec": {
   "display_name": "Python 3 (ipykernel)",
   "language": "python",
   "name": "python3"
  },
  "language_info": {
   "codemirror_mode": {
    "name": "ipython",
    "version": 3
   },
   "file_extension": ".py",
   "mimetype": "text/x-python",
   "name": "python",
   "nbconvert_exporter": "python",
   "pygments_lexer": "ipython3",
   "version": "3.11.5"
  }
 },
 "nbformat": 4,
 "nbformat_minor": 5
}

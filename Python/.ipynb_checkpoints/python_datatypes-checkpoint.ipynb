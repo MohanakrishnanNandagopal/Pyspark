{
 "cells": [
  {
   "cell_type": "code",
   "execution_count": 1,
   "id": "8f1de726",
   "metadata": {},
   "outputs": [],
   "source": [
    "#primitive datatypes in python \n",
    "#in python dataypes are classes\n",
    "#variables we created are objects or instances\n",
    "#int,float,string,boolean,binary"
   ]
  },
  {
   "cell_type": "code",
   "execution_count": 2,
   "id": "c9b03214",
   "metadata": {},
   "outputs": [
    {
     "data": {
      "text/plain": [
       "int"
      ]
     },
     "execution_count": 2,
     "metadata": {},
     "output_type": "execute_result"
    }
   ],
   "source": [
    "var_1 = 3\n",
    "type(var_1)"
   ]
  },
  {
   "cell_type": "code",
   "execution_count": 3,
   "id": "41afc16b",
   "metadata": {},
   "outputs": [],
   "source": [
    "#int - +ve to -ve"
   ]
  },
  {
   "cell_type": "code",
   "execution_count": 4,
   "id": "c9752e40",
   "metadata": {},
   "outputs": [
    {
     "name": "stdout",
     "output_type": "stream",
     "text": [
      "2\n"
     ]
    }
   ],
   "source": [
    "print(0b10)"
   ]
  },
  {
   "cell_type": "code",
   "execution_count": 5,
   "id": "2844332c",
   "metadata": {},
   "outputs": [
    {
     "name": "stdout",
     "output_type": "stream",
     "text": [
      "2\n"
     ]
    }
   ],
   "source": [
    "print(0B10)"
   ]
  },
  {
   "cell_type": "code",
   "execution_count": 6,
   "id": "302f0823",
   "metadata": {},
   "outputs": [],
   "source": [
    "#binary - power of 2.. it will return the binary values(use 0b  or 0B)"
   ]
  },
  {
   "cell_type": "code",
   "execution_count": 7,
   "id": "dbd14ebd",
   "metadata": {},
   "outputs": [
    {
     "name": "stdout",
     "output_type": "stream",
     "text": [
      "8\n"
     ]
    }
   ],
   "source": [
    "print(0o10)"
   ]
  },
  {
   "cell_type": "code",
   "execution_count": 8,
   "id": "55072992",
   "metadata": {},
   "outputs": [
    {
     "name": "stdout",
     "output_type": "stream",
     "text": [
      "83\n"
     ]
    }
   ],
   "source": [
    "print(0O123)"
   ]
  },
  {
   "cell_type": "code",
   "execution_count": 9,
   "id": "9e5eafa1",
   "metadata": {},
   "outputs": [],
   "source": [
    "#Octal - power of 8 .. it will return octal values use (0o or 0O)"
   ]
  },
  {
   "cell_type": "code",
   "execution_count": 10,
   "id": "7fb98ca6",
   "metadata": {},
   "outputs": [
    {
     "name": "stdout",
     "output_type": "stream",
     "text": [
      "16\n"
     ]
    }
   ],
   "source": [
    "print(0x10)"
   ]
  },
  {
   "cell_type": "code",
   "execution_count": 11,
   "id": "1f63ee02",
   "metadata": {},
   "outputs": [
    {
     "name": "stdout",
     "output_type": "stream",
     "text": [
      "16\n"
     ]
    }
   ],
   "source": [
    "print(0X10)"
   ]
  },
  {
   "cell_type": "code",
   "execution_count": 12,
   "id": "381fb46a",
   "metadata": {},
   "outputs": [],
   "source": [
    "#hexa - power of 16.. it will return the hexa values use (0x or 0X)"
   ]
  },
  {
   "cell_type": "code",
   "execution_count": 13,
   "id": "632decf9",
   "metadata": {},
   "outputs": [
    {
     "name": "stdout",
     "output_type": "stream",
     "text": [
      "16\n"
     ]
    },
    {
     "data": {
      "text/plain": [
       "NoneType"
      ]
     },
     "execution_count": 13,
     "metadata": {},
     "output_type": "execute_result"
    }
   ],
   "source": [
    "type(print(0x10))"
   ]
  },
  {
   "cell_type": "code",
   "execution_count": 14,
   "id": "e64556e7",
   "metadata": {},
   "outputs": [],
   "source": [
    "#string - starts with quotes \n",
    "#floats - decimal values"
   ]
  },
  {
   "cell_type": "code",
   "execution_count": 15,
   "id": "ad2075ff",
   "metadata": {},
   "outputs": [],
   "source": [
    "var_1 = 123\n",
    "var_2 = 10.2\n",
    "var_1 = 12"
   ]
  },
  {
   "cell_type": "code",
   "execution_count": 16,
   "id": "0cdc62a1",
   "metadata": {},
   "outputs": [
    {
     "name": "stdout",
     "output_type": "stream",
     "text": [
      "12\n"
     ]
    }
   ],
   "source": [
    "print(var_1)"
   ]
  },
  {
   "cell_type": "code",
   "execution_count": 17,
   "id": "c010a35e",
   "metadata": {},
   "outputs": [],
   "source": [
    "#concatination and addition "
   ]
  },
  {
   "cell_type": "code",
   "execution_count": 18,
   "id": "81f7165c",
   "metadata": {},
   "outputs": [],
   "source": [
    "name1 = 'mohan'\n",
    "name2 = 'krishnan'\n",
    "name1 = 1"
   ]
  },
  {
   "cell_type": "code",
   "execution_count": 19,
   "id": "df61a31b",
   "metadata": {},
   "outputs": [
    {
     "ename": "TypeError",
     "evalue": "unsupported operand type(s) for +: 'int' and 'str'",
     "output_type": "error",
     "traceback": [
      "\u001b[1;31m---------------------------------------------------------------------------\u001b[0m",
      "\u001b[1;31mTypeError\u001b[0m                                 Traceback (most recent call last)",
      "Cell \u001b[1;32mIn[19], line 1\u001b[0m\n\u001b[1;32m----> 1\u001b[0m \u001b[38;5;28mprint\u001b[39m(name1\u001b[38;5;241m+\u001b[39mname2)\n",
      "\u001b[1;31mTypeError\u001b[0m: unsupported operand type(s) for +: 'int' and 'str'"
     ]
    }
   ],
   "source": [
    "print(name1+name2)"
   ]
  },
  {
   "cell_type": "code",
   "execution_count": 20,
   "id": "2dae5e92",
   "metadata": {},
   "outputs": [
    {
     "name": "stdout",
     "output_type": "stream",
     "text": [
      "mohankrishnan\n"
     ]
    }
   ],
   "source": [
    "name1 = 'mohan'\n",
    "name2 = 'krishnan'\n",
    "print(name1 + name2)"
   ]
  },
  {
   "cell_type": "code",
   "execution_count": 21,
   "id": "f8227b1f",
   "metadata": {},
   "outputs": [
    {
     "name": "stdout",
     "output_type": "stream",
     "text": [
      "7\n"
     ]
    }
   ],
   "source": [
    "name1 = 3\n",
    "name2 = 4\n",
    "print(name1 + name2)"
   ]
  },
  {
   "cell_type": "code",
   "execution_count": 22,
   "id": "fefbe915",
   "metadata": {},
   "outputs": [],
   "source": [
    "#how to handle special character(SINGLE OR DOUBLE QUOTES) in string- by using backslash"
   ]
  },
  {
   "cell_type": "code",
   "execution_count": 23,
   "id": "9a84c496",
   "metadata": {},
   "outputs": [
    {
     "name": "stdout",
     "output_type": "stream",
     "text": [
      "MOHAN'S BIRTHDAY\n"
     ]
    }
   ],
   "source": [
    "print('MOHAN\\'S BIRTHDAY')"
   ]
  },
  {
   "cell_type": "code",
   "execution_count": 25,
   "id": "a7a35fab",
   "metadata": {},
   "outputs": [
    {
     "name": "stdout",
     "output_type": "stream",
     "text": [
      "mohan \\n's birthday\n",
      "mohan \\n's birthday\n",
      "mohan \\n's birthday\n",
      "mohan \\n's birthday\n",
      "mohan \\n's birthday\n",
      "mohan \\n's birthday\n",
      "mohan \\n's birthday\n",
      "mohan \\n's birthday\n",
      "mohan \\n's birthday\n",
      "mohan \\n's birthday\n",
      "\n"
     ]
    }
   ],
   "source": [
    "print(10 * \"mohan \\\\n\\'s birthday\\n\")"
   ]
  },
  {
   "cell_type": "code",
   "execution_count": null,
   "id": "e894cc1c",
   "metadata": {},
   "outputs": [],
   "source": []
  }
 ],
 "metadata": {
  "kernelspec": {
   "display_name": "Python 3 (ipykernel)",
   "language": "python",
   "name": "python3"
  },
  "language_info": {
   "codemirror_mode": {
    "name": "ipython",
    "version": 3
   },
   "file_extension": ".py",
   "mimetype": "text/x-python",
   "name": "python",
   "nbconvert_exporter": "python",
   "pygments_lexer": "ipython3",
   "version": "3.11.5"
  }
 },
 "nbformat": 4,
 "nbformat_minor": 5
}

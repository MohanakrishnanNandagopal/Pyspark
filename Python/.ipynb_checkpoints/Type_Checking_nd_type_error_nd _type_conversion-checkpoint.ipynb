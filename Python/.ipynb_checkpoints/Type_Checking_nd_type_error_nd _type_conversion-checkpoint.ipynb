{
 "cells": [
  {
   "cell_type": "code",
   "execution_count": 1,
   "id": "35175adc",
   "metadata": {},
   "outputs": [],
   "source": [
    "#type_error- object of specific data type has no such fuctions\n",
    "\n",
    "#      TypeError: object of type 'int' has no len()  \n",
    "#      TypeError: can only concatenate str (not \"int\") to str\n"
   ]
  },
  {
   "cell_type": "code",
   "execution_count": 2,
   "id": "0f16aabe",
   "metadata": {},
   "outputs": [
    {
     "name": "stdout",
     "output_type": "stream",
     "text": [
      "5\n"
     ]
    }
   ],
   "source": [
    "print(len(\"12345\"))"
   ]
  },
  {
   "cell_type": "code",
   "execution_count": 3,
   "id": "b41c8479",
   "metadata": {},
   "outputs": [
    {
     "ename": "TypeError",
     "evalue": "object of type 'int' has no len()",
     "output_type": "error",
     "traceback": [
      "\u001b[1;31m---------------------------------------------------------------------------\u001b[0m",
      "\u001b[1;31mTypeError\u001b[0m                                 Traceback (most recent call last)",
      "Cell \u001b[1;32mIn[3], line 1\u001b[0m\n\u001b[1;32m----> 1\u001b[0m \u001b[38;5;28mprint\u001b[39m(\u001b[38;5;28mlen\u001b[39m(\u001b[38;5;241m12345\u001b[39m))\n",
      "\u001b[1;31mTypeError\u001b[0m: object of type 'int' has no len()"
     ]
    }
   ],
   "source": [
    "print(len(12345))"
   ]
  },
  {
   "cell_type": "code",
   "execution_count": 4,
   "id": "fe6f4963",
   "metadata": {},
   "outputs": [
    {
     "ename": "TypeError",
     "evalue": "can only concatenate str (not \"int\") to str",
     "output_type": "error",
     "traceback": [
      "\u001b[1;31m---------------------------------------------------------------------------\u001b[0m",
      "\u001b[1;31mTypeError\u001b[0m                                 Traceback (most recent call last)",
      "Cell \u001b[1;32mIn[4], line 1\u001b[0m\n\u001b[1;32m----> 1\u001b[0m \u001b[38;5;28mprint\u001b[39m(\u001b[38;5;124m\"\u001b[39m\u001b[38;5;124myour name has \u001b[39m\u001b[38;5;124m\"\u001b[39m\u001b[38;5;241m+\u001b[39m\u001b[38;5;28mlen\u001b[39m(\u001b[38;5;124m\"\u001b[39m\u001b[38;5;124mmonhan\u001b[39m\u001b[38;5;124m\"\u001b[39m)\u001b[38;5;241m+\u001b[39m\u001b[38;5;124m\"\u001b[39m\u001b[38;5;124m characters\u001b[39m\u001b[38;5;124m\"\u001b[39m)\n",
      "\u001b[1;31mTypeError\u001b[0m: can only concatenate str (not \"int\") to str"
     ]
    }
   ],
   "source": [
    "print(\"your name has \"+len(\"monhan\")+\" characters\")"
   ]
  },
  {
   "cell_type": "code",
   "execution_count": 5,
   "id": "7a59804a",
   "metadata": {},
   "outputs": [],
   "source": [
    "#type_casting - casting from one datatype to another datatype"
   ]
  },
  {
   "cell_type": "code",
   "execution_count": 7,
   "id": "de0b3810",
   "metadata": {},
   "outputs": [
    {
     "name": "stdout",
     "output_type": "stream",
     "text": [
      "your name has 15 characters\n"
     ]
    }
   ],
   "source": [
    "print(\"your name has \"+str(len(\"mohana krishnan\"))+\" characters\")"
   ]
  },
  {
   "cell_type": "code",
   "execution_count": 8,
   "id": "d646b811",
   "metadata": {},
   "outputs": [],
   "source": [
    "#type_checking - checking which datatype the result has "
   ]
  },
  {
   "cell_type": "code",
   "execution_count": 11,
   "id": "c4044f6d",
   "metadata": {},
   "outputs": [],
   "source": [
    "name1 = 283747\n",
    "name2 = \"i849jjr\"\n",
    "name3 = \"mohan\""
   ]
  },
  {
   "cell_type": "code",
   "execution_count": 13,
   "id": "077acaa2",
   "metadata": {},
   "outputs": [
    {
     "data": {
      "text/plain": [
       "\"<class 'int'><class 'str'><class 'str'>\""
      ]
     },
     "execution_count": 13,
     "metadata": {},
     "output_type": "execute_result"
    }
   ],
   "source": [
    "str(type(name1)) + str(type(name2))+ str(type(name3))"
   ]
  },
  {
   "cell_type": "code",
   "execution_count": 15,
   "id": "484664e6",
   "metadata": {},
   "outputs": [
    {
     "name": "stdout",
     "output_type": "stream",
     "text": [
      "<class 'int'>\n"
     ]
    }
   ],
   "source": [
    "print(type(len(name2)))"
   ]
  },
  {
   "cell_type": "code",
   "execution_count": 16,
   "id": "0f4e06a1",
   "metadata": {},
   "outputs": [
    {
     "name": "stdout",
     "output_type": "stream",
     "text": [
      "<class 'bool'>\n"
     ]
    }
   ],
   "source": [
    "print(type(True))"
   ]
  },
  {
   "cell_type": "code",
   "execution_count": 17,
   "id": "a131f9d7",
   "metadata": {},
   "outputs": [
    {
     "name": "stdout",
     "output_type": "stream",
     "text": [
      "<class 'float'>\n"
     ]
    }
   ],
   "source": [
    "print(type(3.55))"
   ]
  },
  {
   "cell_type": "code",
   "execution_count": 18,
   "id": "ef1b7e0c",
   "metadata": {},
   "outputs": [
    {
     "name": "stdout",
     "output_type": "stream",
     "text": [
      "29\n"
     ]
    }
   ],
   "source": [
    "print(int(\"10\")+int(\"19\"))"
   ]
  },
  {
   "cell_type": "code",
   "execution_count": 20,
   "id": "69eed31f",
   "metadata": {},
   "outputs": [
    {
     "name": "stdout",
     "output_type": "stream",
     "text": [
      "20.0\n"
     ]
    },
    {
     "ename": "ValueError",
     "evalue": "invalid literal for int() with base 10: 'mohan'",
     "output_type": "error",
     "traceback": [
      "\u001b[1;31m---------------------------------------------------------------------------\u001b[0m",
      "\u001b[1;31mValueError\u001b[0m                                Traceback (most recent call last)",
      "Cell \u001b[1;32mIn[20], line 3\u001b[0m\n\u001b[0;32m      1\u001b[0m \u001b[38;5;28mprint\u001b[39m(\u001b[38;5;28mint\u001b[39m(\u001b[38;5;124m\"\u001b[39m\u001b[38;5;124m10\u001b[39m\u001b[38;5;124m\"\u001b[39m)\u001b[38;5;241m+\u001b[39m\u001b[38;5;28mfloat\u001b[39m(\u001b[38;5;124m\"\u001b[39m\u001b[38;5;124m10\u001b[39m\u001b[38;5;124m\"\u001b[39m))\n\u001b[0;32m      2\u001b[0m name \u001b[38;5;241m=\u001b[39m \u001b[38;5;124m\"\u001b[39m\u001b[38;5;124mmohan\u001b[39m\u001b[38;5;124m\"\u001b[39m\n\u001b[1;32m----> 3\u001b[0m \u001b[38;5;28mprint\u001b[39m(\u001b[38;5;241m10\u001b[39m \u001b[38;5;241m+\u001b[39m \u001b[38;5;28mint\u001b[39m(name))\n",
      "\u001b[1;31mValueError\u001b[0m: invalid literal for int() with base 10: 'mohan'"
     ]
    }
   ],
   "source": [
    "print(int(\"10\")+float(\"10\"))\n",
    "name = \"mohan\"\n",
    "print(10 + int(name))"
   ]
  },
  {
   "cell_type": "code",
   "execution_count": 21,
   "id": "2c9878f8",
   "metadata": {},
   "outputs": [],
   "source": [
    "def add(m,n):\n",
    "    return m+n"
   ]
  },
  {
   "cell_type": "code",
   "execution_count": 22,
   "id": "e198865b",
   "metadata": {},
   "outputs": [
    {
     "data": {
      "text/plain": [
       "30"
      ]
     },
     "execution_count": 22,
     "metadata": {},
     "output_type": "execute_result"
    }
   ],
   "source": [
    "add(10,20)"
   ]
  },
  {
   "cell_type": "code",
   "execution_count": 23,
   "id": "72b03217",
   "metadata": {},
   "outputs": [],
   "source": [
    "#whenever the input from user come..python take this as an string"
   ]
  },
  {
   "cell_type": "code",
   "execution_count": 24,
   "id": "91236f30",
   "metadata": {},
   "outputs": [
    {
     "name": "stdout",
     "output_type": "stream",
     "text": [
      "first number : 1\n",
      "Second number : 2\n",
      "12\n"
     ]
    }
   ],
   "source": [
    "a = input(\"first number : \")\n",
    "b = input(\"Second number : \")\n",
    "print(a+b)"
   ]
  },
  {
   "cell_type": "code",
   "execution_count": 25,
   "id": "70850c3e",
   "metadata": {},
   "outputs": [],
   "source": [
    "#so...cast the input.."
   ]
  },
  {
   "cell_type": "code",
   "execution_count": 26,
   "id": "1b431f74",
   "metadata": {},
   "outputs": [
    {
     "name": "stdout",
     "output_type": "stream",
     "text": [
      "first number1\n",
      "Second number10\n",
      "11\n"
     ]
    }
   ],
   "source": [
    "a = int(input(\"first number\"))\n",
    "b = int(input(\"Second number\"))\n",
    "print(a+b)"
   ]
  },
  {
   "cell_type": "code",
   "execution_count": 28,
   "id": "99dbb561",
   "metadata": {},
   "outputs": [],
   "source": [
    "#program to add digits of a number using type casting\n",
    "#23 = 2+3 \n",
    "#45 = 4+5"
   ]
  },
  {
   "cell_type": "code",
   "execution_count": 29,
   "id": "8013aa21",
   "metadata": {},
   "outputs": [
    {
     "name": "stdout",
     "output_type": "stream",
     "text": [
      "enter a 2 digit number : 45\n",
      "9\n"
     ]
    }
   ],
   "source": [
    "a = input(\"enter a 2 digit number : \")\n",
    "digit1 = a[0]\n",
    "digit2 = a[1]\n",
    "print(int(digit1)+int(digit2))"
   ]
  },
  {
   "cell_type": "code",
   "execution_count": 30,
   "id": "a1850362",
   "metadata": {},
   "outputs": [],
   "source": [
    "#program to add digits of a number\n",
    "#23 = 2+3 \n",
    "#45 = 4+5"
   ]
  },
  {
   "cell_type": "code",
   "execution_count": null,
   "id": "f33b4789",
   "metadata": {},
   "outputs": [],
   "source": [
    "def digit_checking(m)\n",
    "a = int(input(\"enter a two digit number : \"))\n",
    "while (count !=1):\n",
    "    a1 = a%10\n",
    "    count = count+1\n"
   ]
  }
 ],
 "metadata": {
  "kernelspec": {
   "display_name": "Python 3 (ipykernel)",
   "language": "python",
   "name": "python3"
  },
  "language_info": {
   "codemirror_mode": {
    "name": "ipython",
    "version": 3
   },
   "file_extension": ".py",
   "mimetype": "text/x-python",
   "name": "python",
   "nbconvert_exporter": "python",
   "pygments_lexer": "ipython3",
   "version": "3.11.5"
  }
 },
 "nbformat": 4,
 "nbformat_minor": 5
}

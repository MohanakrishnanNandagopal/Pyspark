{
 "cells": [
  {
   "cell_type": "code",
   "execution_count": 2,
   "id": "19b7a961",
   "metadata": {},
   "outputs": [],
   "source": [
    "#set are also used to store multiple items in the single variable.\n",
    "# instead of using [] in list and () for tuple use {} for sets\n",
    "# duplicates are not allowed in sets\n",
    "# its in unordered form\n",
    "# index are not allowed bcz it is unordered\n",
    "# we can't change the items in the sets\n",
    "# we can add and remove the elements in the sets"
   ]
  },
  {
   "cell_type": "code",
   "execution_count": 3,
   "id": "12d07172",
   "metadata": {},
   "outputs": [],
   "source": [
    "sets1 = {1,4,6,8,3,7,8,3}"
   ]
  },
  {
   "cell_type": "code",
   "execution_count": 4,
   "id": "dd8abfae",
   "metadata": {},
   "outputs": [
    {
     "data": {
      "text/plain": [
       "{1, 3, 4, 6, 7, 8}"
      ]
     },
     "execution_count": 4,
     "metadata": {},
     "output_type": "execute_result"
    }
   ],
   "source": [
    "sets1\n"
   ]
  },
  {
   "cell_type": "code",
   "execution_count": 5,
   "id": "5ca02751",
   "metadata": {},
   "outputs": [
    {
     "ename": "TypeError",
     "evalue": "'set' object is not subscriptable",
     "output_type": "error",
     "traceback": [
      "\u001b[1;31m---------------------------------------------------------------------------\u001b[0m",
      "\u001b[1;31mTypeError\u001b[0m                                 Traceback (most recent call last)",
      "Cell \u001b[1;32mIn[5], line 1\u001b[0m\n\u001b[1;32m----> 1\u001b[0m \u001b[38;5;28mprint\u001b[39m(sets1[\u001b[38;5;241m3\u001b[39m])\n",
      "\u001b[1;31mTypeError\u001b[0m: 'set' object is not subscriptable"
     ]
    }
   ],
   "source": [
    "print(sets1[3]) # indexing is not allowed..."
   ]
  },
  {
   "cell_type": "code",
   "execution_count": 6,
   "id": "fada1160",
   "metadata": {},
   "outputs": [],
   "source": [
    "sets2 = {}\n",
    "sets3 = set()"
   ]
  },
  {
   "cell_type": "code",
   "execution_count": 7,
   "id": "6bd7cec0",
   "metadata": {},
   "outputs": [
    {
     "name": "stdout",
     "output_type": "stream",
     "text": [
      "<class 'dict'>\n",
      "<class 'set'>\n"
     ]
    }
   ],
   "source": [
    "print(type(sets2))\n",
    "print(type(sets3))"
   ]
  },
  {
   "cell_type": "code",
   "execution_count": 8,
   "id": "200d06dc",
   "metadata": {},
   "outputs": [],
   "source": [
    "#add elements in the sets\n",
    "sets1.add(90)"
   ]
  },
  {
   "cell_type": "code",
   "execution_count": 12,
   "id": "d432e153",
   "metadata": {},
   "outputs": [
    {
     "data": {
      "text/plain": [
       "{1, 3, 4, 6, 7, 8, 90}"
      ]
     },
     "execution_count": 12,
     "metadata": {},
     "output_type": "execute_result"
    }
   ],
   "source": [
    "sets1"
   ]
  },
  {
   "cell_type": "code",
   "execution_count": 13,
   "id": "2ffa86ed",
   "metadata": {},
   "outputs": [],
   "source": [
    "sets1.remove(7) # remove the elements in the sets"
   ]
  },
  {
   "cell_type": "code",
   "execution_count": 14,
   "id": "a65c8020",
   "metadata": {},
   "outputs": [
    {
     "data": {
      "text/plain": [
       "{1, 3, 4, 6, 8, 90}"
      ]
     },
     "execution_count": 14,
     "metadata": {},
     "output_type": "execute_result"
    }
   ],
   "source": [
    "sets1\n"
   ]
  },
  {
   "cell_type": "code",
   "execution_count": 16,
   "id": "1413d7f6",
   "metadata": {},
   "outputs": [],
   "source": [
    "sets1.discard(4)"
   ]
  },
  {
   "cell_type": "code",
   "execution_count": 17,
   "id": "246449a9",
   "metadata": {},
   "outputs": [
    {
     "name": "stdout",
     "output_type": "stream",
     "text": [
      "{1, 3, 6, 8, 90}\n"
     ]
    }
   ],
   "source": [
    "print(sets1)"
   ]
  },
  {
   "cell_type": "code",
   "execution_count": 18,
   "id": "d47e550c",
   "metadata": {},
   "outputs": [],
   "source": [
    "sets1.discard(100)# discard can remove the elements in the sets ..though it will not present it will not throw the error"
   ]
  },
  {
   "cell_type": "code",
   "execution_count": 19,
   "id": "18a18b5d",
   "metadata": {},
   "outputs": [
    {
     "data": {
      "text/plain": [
       "{1, 3, 6, 8, 90}"
      ]
     },
     "execution_count": 19,
     "metadata": {},
     "output_type": "execute_result"
    }
   ],
   "source": [
    "sets1"
   ]
  },
  {
   "cell_type": "code",
   "execution_count": 20,
   "id": "0a7b612a",
   "metadata": {},
   "outputs": [
    {
     "data": {
      "text/plain": [
       "1"
      ]
     },
     "execution_count": 20,
     "metadata": {},
     "output_type": "execute_result"
    }
   ],
   "source": [
    "sets1.pop() # it will randomly remove the elements "
   ]
  },
  {
   "cell_type": "code",
   "execution_count": 21,
   "id": "a6870985",
   "metadata": {},
   "outputs": [],
   "source": [
    "sets1.add((10,11,12,13))"
   ]
  },
  {
   "cell_type": "code",
   "execution_count": 22,
   "id": "4d5333e4",
   "metadata": {},
   "outputs": [
    {
     "data": {
      "text/plain": [
       "{(10, 11, 12, 13), 3, 6, 8, 90}"
      ]
     },
     "execution_count": 22,
     "metadata": {},
     "output_type": "execute_result"
    }
   ],
   "source": [
    "sets1\n"
   ]
  },
  {
   "cell_type": "code",
   "execution_count": 24,
   "id": "b19d1acf",
   "metadata": {},
   "outputs": [
    {
     "ename": "TypeError",
     "evalue": "unhashable type: 'list'",
     "output_type": "error",
     "traceback": [
      "\u001b[1;31m---------------------------------------------------------------------------\u001b[0m",
      "\u001b[1;31mTypeError\u001b[0m                                 Traceback (most recent call last)",
      "Cell \u001b[1;32mIn[24], line 1\u001b[0m\n\u001b[1;32m----> 1\u001b[0m sets1\u001b[38;5;241m.\u001b[39madd([\u001b[38;5;241m15\u001b[39m,\u001b[38;5;241m16\u001b[39m,\u001b[38;5;241m17\u001b[39m])\n",
      "\u001b[1;31mTypeError\u001b[0m: unhashable type: 'list'"
     ]
    }
   ],
   "source": [
    "sets1.add([15,16,17]) # we can't add list in tuple bcz list is mutable"
   ]
  },
  {
   "cell_type": "code",
   "execution_count": 25,
   "id": "109ce6c5",
   "metadata": {},
   "outputs": [],
   "source": [
    "#Operations in sets.. "
   ]
  },
  {
   "cell_type": "code",
   "execution_count": 26,
   "id": "0b3333b2",
   "metadata": {},
   "outputs": [],
   "source": [
    "#union - (all the elements)"
   ]
  },
  {
   "cell_type": "code",
   "execution_count": 30,
   "id": "e4652da0",
   "metadata": {},
   "outputs": [],
   "source": [
    "set1 ={1,2,3,4,5}\n",
    "set2 ={4,5,6,10,11}\n",
    "set3 ={13,14}"
   ]
  },
  {
   "cell_type": "code",
   "execution_count": 28,
   "id": "2da7ecd5",
   "metadata": {},
   "outputs": [
    {
     "data": {
      "text/plain": [
       "{1, 2, 3, 4, 5, 6, 10, 11}"
      ]
     },
     "execution_count": 28,
     "metadata": {},
     "output_type": "execute_result"
    }
   ],
   "source": [
    "set1.union(set2) #return all the elements"
   ]
  },
  {
   "cell_type": "code",
   "execution_count": 35,
   "id": "b62f0f69",
   "metadata": {},
   "outputs": [
    {
     "data": {
      "text/plain": [
       "{1, 2, 3, 4, 5, 6, 10, 11, 13, 14}"
      ]
     },
     "execution_count": 35,
     "metadata": {},
     "output_type": "execute_result"
    }
   ],
   "source": [
    "set1.union(set2,set3) # the arguments can be any one of the iterables.."
   ]
  },
  {
   "cell_type": "code",
   "execution_count": 38,
   "id": "7b2f143b",
   "metadata": {},
   "outputs": [
    {
     "data": {
      "text/plain": [
       "{1, 13, 14, 2, 3, 4, 5, 'mani', 'selva'}"
      ]
     },
     "execution_count": 38,
     "metadata": {},
     "output_type": "execute_result"
    }
   ],
   "source": [
    "l1 = ['mani','selva']\n",
    "set1.union(l1)"
   ]
  },
  {
   "cell_type": "code",
   "execution_count": 39,
   "id": "a9b338f2",
   "metadata": {},
   "outputs": [
    {
     "data": {
      "text/plain": [
       "{1, 2, 3, 4, 5, 6, 10, 11, 13, 14}"
      ]
     },
     "execution_count": 39,
     "metadata": {},
     "output_type": "execute_result"
    }
   ],
   "source": [
    "set1 | set2 #using union operator..also set1 | set2 |set3 ..note for this operator '|' all the objects are must be sets.."
   ]
  },
  {
   "cell_type": "code",
   "execution_count": 40,
   "id": "bcb736c7",
   "metadata": {},
   "outputs": [
    {
     "ename": "TypeError",
     "evalue": "unsupported operand type(s) for |: 'set' and 'list'",
     "output_type": "error",
     "traceback": [
      "\u001b[1;31m---------------------------------------------------------------------------\u001b[0m",
      "\u001b[1;31mTypeError\u001b[0m                                 Traceback (most recent call last)",
      "Cell \u001b[1;32mIn[40], line 1\u001b[0m\n\u001b[1;32m----> 1\u001b[0m set1 \u001b[38;5;241m|\u001b[39ml1\n",
      "\u001b[1;31mTypeError\u001b[0m: unsupported operand type(s) for |: 'set' and 'list'"
     ]
    }
   ],
   "source": [
    "set1 |l1"
   ]
  },
  {
   "cell_type": "code",
   "execution_count": 41,
   "id": "5e1cd81c",
   "metadata": {},
   "outputs": [
    {
     "ename": "TypeError",
     "evalue": "unsupported operand type(s) for |: 'set' and 'tuple'",
     "output_type": "error",
     "traceback": [
      "\u001b[1;31m---------------------------------------------------------------------------\u001b[0m",
      "\u001b[1;31mTypeError\u001b[0m                                 Traceback (most recent call last)",
      "Cell \u001b[1;32mIn[41], line 1\u001b[0m\n\u001b[1;32m----> 1\u001b[0m \u001b[38;5;28mprint\u001b[39m(set1 \u001b[38;5;241m|\u001b[39m (\u001b[38;5;124m'\u001b[39m\u001b[38;5;124mmohan\u001b[39m\u001b[38;5;124m'\u001b[39m,\u001b[38;5;124m'\u001b[39m\u001b[38;5;124mpradeep\u001b[39m\u001b[38;5;124m'\u001b[39m))\n",
      "\u001b[1;31mTypeError\u001b[0m: unsupported operand type(s) for |: 'set' and 'tuple'"
     ]
    }
   ],
   "source": [
    "print(set1 | ('mohan','pradeep'))"
   ]
  },
  {
   "cell_type": "code",
   "execution_count": 42,
   "id": "32b27aed",
   "metadata": {},
   "outputs": [],
   "source": [
    "#modify or changing the set.."
   ]
  },
  {
   "cell_type": "code",
   "execution_count": 3,
   "id": "5c8f0f14",
   "metadata": {},
   "outputs": [],
   "source": [
    "set1 = {'mohan','parkavi','ari','dinu'}\n",
    "set2 = {'aki','valar','mathi','sandhiya','Mohan'}\n",
    "set3 = {'ankur','pradeep','mohan'}"
   ]
  },
  {
   "cell_type": "code",
   "execution_count": 44,
   "id": "40061634",
   "metadata": {},
   "outputs": [],
   "source": [
    "set1.update(set2)# adding elements from set2 to set1"
   ]
  },
  {
   "cell_type": "code",
   "execution_count": 45,
   "id": "9cf79fce",
   "metadata": {},
   "outputs": [
    {
     "name": "stdout",
     "output_type": "stream",
     "text": [
      "{'sandhiya', 'aki', 'parkavi', 'ari', 'mohan', 'dinu', 'valar', 'mathi'}\n"
     ]
    }
   ],
   "source": [
    "print(set1)"
   ]
  },
  {
   "cell_type": "code",
   "execution_count": 1,
   "id": "01fc4a86",
   "metadata": {},
   "outputs": [],
   "source": [
    "#intersection in sets....applicable for all iterables...."
   ]
  },
  {
   "cell_type": "code",
   "execution_count": 4,
   "id": "55f3a6bc",
   "metadata": {},
   "outputs": [
    {
     "name": "stdout",
     "output_type": "stream",
     "text": [
      "{'mohan'}\n"
     ]
    }
   ],
   "source": [
    "print(set1.intersection(set3))"
   ]
  },
  {
   "cell_type": "code",
   "execution_count": 5,
   "id": "ce396e4a",
   "metadata": {},
   "outputs": [
    {
     "name": "stdout",
     "output_type": "stream",
     "text": [
      "set()\n"
     ]
    }
   ],
   "source": [
    "print(set1.intersection(set3,set2))"
   ]
  },
  {
   "cell_type": "code",
   "execution_count": 6,
   "id": "03ac5b9b",
   "metadata": {},
   "outputs": [],
   "source": [
    "# & intersetion symbol applicable for only sets.."
   ]
  },
  {
   "cell_type": "code",
   "execution_count": 7,
   "id": "8a75699a",
   "metadata": {},
   "outputs": [],
   "source": [
    "l1= ['mohan','ari','dinu']"
   ]
  },
  {
   "cell_type": "code",
   "execution_count": 8,
   "id": "0316df71",
   "metadata": {},
   "outputs": [
    {
     "ename": "TypeError",
     "evalue": "unsupported operand type(s) for &: 'set' and 'list'",
     "output_type": "error",
     "traceback": [
      "\u001b[1;31m---------------------------------------------------------------------------\u001b[0m",
      "\u001b[1;31mTypeError\u001b[0m                                 Traceback (most recent call last)",
      "Cell \u001b[1;32mIn[8], line 1\u001b[0m\n\u001b[1;32m----> 1\u001b[0m \u001b[38;5;28mprint\u001b[39m(set1 \u001b[38;5;241m&\u001b[39m l1)\n",
      "\u001b[1;31mTypeError\u001b[0m: unsupported operand type(s) for &: 'set' and 'list'"
     ]
    }
   ],
   "source": [
    "print(set1 & l1)"
   ]
  },
  {
   "cell_type": "code",
   "execution_count": 9,
   "id": "c53c8550",
   "metadata": {},
   "outputs": [
    {
     "name": "stdout",
     "output_type": "stream",
     "text": [
      "{'dinu', 'mohan', 'ari'}\n"
     ]
    }
   ],
   "source": [
    "print(set1.intersection(l1))"
   ]
  },
  {
   "cell_type": "code",
   "execution_count": 10,
   "id": "cc6adc56",
   "metadata": {},
   "outputs": [],
   "source": [
    "#updating the set using intersection"
   ]
  },
  {
   "cell_type": "code",
   "execution_count": 12,
   "id": "5afccd18",
   "metadata": {},
   "outputs": [],
   "source": [
    "set1.intersection_update(l1) #it will update the set1"
   ]
  },
  {
   "cell_type": "code",
   "execution_count": 13,
   "id": "983a6305",
   "metadata": {},
   "outputs": [
    {
     "data": {
      "text/plain": [
       "{'ari', 'dinu', 'mohan'}"
      ]
     },
     "execution_count": 13,
     "metadata": {},
     "output_type": "execute_result"
    }
   ],
   "source": [
    "set1"
   ]
  },
  {
   "cell_type": "code",
   "execution_count": 14,
   "id": "f22d0337",
   "metadata": {},
   "outputs": [],
   "source": [
    "set2.intersection_update(set1) # it will update the set2"
   ]
  },
  {
   "cell_type": "code",
   "execution_count": 15,
   "id": "ddc90b86",
   "metadata": {},
   "outputs": [
    {
     "data": {
      "text/plain": [
       "set()"
      ]
     },
     "execution_count": 15,
     "metadata": {},
     "output_type": "execute_result"
    }
   ],
   "source": [
    "set2"
   ]
  },
  {
   "cell_type": "code",
   "execution_count": 16,
   "id": "2396f6ce",
   "metadata": {},
   "outputs": [],
   "source": [
    "set3.intersection_update(['nanda','geetha'])"
   ]
  },
  {
   "cell_type": "code",
   "execution_count": 17,
   "id": "b24979e0",
   "metadata": {},
   "outputs": [
    {
     "data": {
      "text/plain": [
       "set()"
      ]
     },
     "execution_count": 17,
     "metadata": {},
     "output_type": "execute_result"
    }
   ],
   "source": [
    "set3"
   ]
  },
  {
   "cell_type": "code",
   "execution_count": 20,
   "id": "6881bb55",
   "metadata": {},
   "outputs": [],
   "source": [
    "# difference in sets..\n",
    "set1 = {'mohan','parkavi','ari','dinu'}\n",
    "set2 = {'aki','valar','mathi','sandhiya','Mohan'}\n",
    "set3 = {'ankur','pradeep','mohan'}\n",
    "set4 = {'parkavi','mohan'}"
   ]
  },
  {
   "cell_type": "code",
   "execution_count": 19,
   "id": "556476a3",
   "metadata": {},
   "outputs": [
    {
     "name": "stdout",
     "output_type": "stream",
     "text": [
      "{'dinu', 'mohan', 'ari', 'parkavi'}\n"
     ]
    }
   ],
   "source": [
    "print(set1.difference(set2))"
   ]
  },
  {
   "cell_type": "code",
   "execution_count": 21,
   "id": "b3a02400",
   "metadata": {},
   "outputs": [
    {
     "name": "stdout",
     "output_type": "stream",
     "text": [
      "{'dinu', 'ari'}\n"
     ]
    }
   ],
   "source": [
    "print(set1.difference(set4))"
   ]
  },
  {
   "cell_type": "code",
   "execution_count": 22,
   "id": "f5647a91",
   "metadata": {},
   "outputs": [
    {
     "name": "stdout",
     "output_type": "stream",
     "text": [
      "{'valar', 'mathi', 'Mohan', 'aki', 'sandhiya'}\n"
     ]
    }
   ],
   "source": [
    "print(set2.difference(set1))"
   ]
  },
  {
   "cell_type": "code",
   "execution_count": 23,
   "id": "aeb2ff35",
   "metadata": {},
   "outputs": [
    {
     "name": "stdout",
     "output_type": "stream",
     "text": [
      "set()\n"
     ]
    }
   ],
   "source": [
    "print(set4.difference(set1))"
   ]
  },
  {
   "cell_type": "code",
   "execution_count": 27,
   "id": "e172f756",
   "metadata": {},
   "outputs": [
    {
     "name": "stdout",
     "output_type": "stream",
     "text": [
      "{'dinu', 'mohan', 'ari', 'parkavi'}\n"
     ]
    }
   ],
   "source": [
    "# - difference operators..only applicable for sets...\n",
    "print(set1- set2)"
   ]
  },
  {
   "cell_type": "code",
   "execution_count": 28,
   "id": "ad3b4cbd",
   "metadata": {},
   "outputs": [],
   "source": [
    "#updating the sets..using difference_update.."
   ]
  },
  {
   "cell_type": "code",
   "execution_count": 29,
   "id": "65295c20",
   "metadata": {},
   "outputs": [],
   "source": [
    "set1.difference_update(set2)"
   ]
  },
  {
   "cell_type": "code",
   "execution_count": 30,
   "id": "090f97b6",
   "metadata": {},
   "outputs": [
    {
     "data": {
      "text/plain": [
       "{'ari', 'dinu', 'mohan', 'parkavi'}"
      ]
     },
     "execution_count": 30,
     "metadata": {},
     "output_type": "execute_result"
    }
   ],
   "source": [
    "set1\n"
   ]
  },
  {
   "cell_type": "code",
   "execution_count": 31,
   "id": "1dafa677",
   "metadata": {},
   "outputs": [],
   "source": [
    "set1.difference_update(set4)"
   ]
  },
  {
   "cell_type": "code",
   "execution_count": 32,
   "id": "290a4826",
   "metadata": {},
   "outputs": [
    {
     "data": {
      "text/plain": [
       "{'ari', 'dinu'}"
      ]
     },
     "execution_count": 32,
     "metadata": {},
     "output_type": "execute_result"
    }
   ],
   "source": [
    "set1"
   ]
  },
  {
   "cell_type": "code",
   "execution_count": 33,
   "id": "2e434095",
   "metadata": {},
   "outputs": [
    {
     "name": "stdout",
     "output_type": "stream",
     "text": [
      "{'dinu', 'ari'}\n"
     ]
    }
   ],
   "source": [
    "print(set1)"
   ]
  },
  {
   "cell_type": "code",
   "execution_count": 34,
   "id": "0888ac2c",
   "metadata": {},
   "outputs": [],
   "source": [
    "#symmetric_difference -- either in set1 or set2 but not both..\n",
    "set1 = {'mohan','parkavi','ari','dinu'}\n",
    "set2 = {'aki','valar','mathi','sandhiya','Mohan'}\n",
    "set3 = {'ankur','pradeep','mohan'}\n",
    "set4 = {'parkavi','mohan'}"
   ]
  },
  {
   "cell_type": "code",
   "execution_count": 35,
   "id": "fc4a5ed8",
   "metadata": {},
   "outputs": [
    {
     "data": {
      "text/plain": [
       "{'Mohan', 'aki', 'ari', 'dinu', 'mathi', 'sandhiya', 'valar'}"
      ]
     },
     "execution_count": 35,
     "metadata": {},
     "output_type": "execute_result"
    }
   ],
   "source": [
    "set1.symmetric_difference(set2)"
   ]
  },
  {
   "cell_type": "code",
   "execution_count": 36,
   "id": "8c195035",
   "metadata": {},
   "outputs": [
    {
     "data": {
      "text/plain": [
       "{'Mohan', 'aki', 'ari', 'dinu', 'mathi', 'sandhiya', 'valar'}"
      ]
     },
     "execution_count": 36,
     "metadata": {},
     "output_type": "execute_result"
    }
   ],
   "source": [
    "set1.union(set2)"
   ]
  },
  {
   "cell_type": "code",
   "execution_count": 37,
   "id": "52412025",
   "metadata": {},
   "outputs": [
    {
     "data": {
      "text/plain": [
       "{'Mohan', 'aki', 'ari', 'dinu', 'mathi', 'sandhiya', 'valar'}"
      ]
     },
     "execution_count": 37,
     "metadata": {},
     "output_type": "execute_result"
    }
   ],
   "source": [
    "set1^set2"
   ]
  },
  {
   "cell_type": "code",
   "execution_count": 38,
   "id": "463fc403",
   "metadata": {},
   "outputs": [],
   "source": [
    "#updating set using difference_update.."
   ]
  },
  {
   "cell_type": "code",
   "execution_count": 39,
   "id": "8c187567",
   "metadata": {},
   "outputs": [],
   "source": [
    "set1.symmetric_difference_update(set2)"
   ]
  },
  {
   "cell_type": "code",
   "execution_count": 40,
   "id": "6bda0857",
   "metadata": {},
   "outputs": [
    {
     "data": {
      "text/plain": [
       "{'Mohan', 'aki', 'ari', 'dinu', 'mathi', 'sandhiya', 'valar'}"
      ]
     },
     "execution_count": 40,
     "metadata": {},
     "output_type": "execute_result"
    }
   ],
   "source": [
    "set1"
   ]
  },
  {
   "cell_type": "code",
   "execution_count": 44,
   "id": "7aebbf27",
   "metadata": {},
   "outputs": [],
   "source": [
    "#disjoint...means the intersection elements are zero...\n",
    "set1 = {'mohan','parkavi','ari','dinu'}\n",
    "set2 = {'aki','valar','mathi','sandhiya','Mohan'}\n",
    "set3 = {'ankur','pradeep','mohan'}\n",
    "set4 = {'parkavi','mohan'}\n",
    "set5 = set()"
   ]
  },
  {
   "cell_type": "code",
   "execution_count": 42,
   "id": "d2f49c15",
   "metadata": {},
   "outputs": [
    {
     "name": "stdout",
     "output_type": "stream",
     "text": [
      "False\n"
     ]
    }
   ],
   "source": [
    "print(set1.isdisjoint(set2)) # because in both set1 and set2 the intersection elements are mohan..."
   ]
  },
  {
   "cell_type": "code",
   "execution_count": 47,
   "id": "8c8c66e6",
   "metadata": {},
   "outputs": [
    {
     "name": "stdout",
     "output_type": "stream",
     "text": [
      "True\n"
     ]
    }
   ],
   "source": [
    "print(set1.isdisjoint(set5))"
   ]
  },
  {
   "cell_type": "code",
   "execution_count": 48,
   "id": "08e1cbce",
   "metadata": {},
   "outputs": [],
   "source": [
    "#subset --means if set1 is subset of set2 only ..when all the elements in set1 are in set2"
   ]
  },
  {
   "cell_type": "code",
   "execution_count": 49,
   "id": "55818d86",
   "metadata": {},
   "outputs": [
    {
     "name": "stdout",
     "output_type": "stream",
     "text": [
      "True\n"
     ]
    }
   ],
   "source": [
    "print(set4.issubset(set1)) #both mohan and parkavi in set4 are also in set1"
   ]
  },
  {
   "cell_type": "code",
   "execution_count": 50,
   "id": "8e1f79c5",
   "metadata": {},
   "outputs": [
    {
     "name": "stdout",
     "output_type": "stream",
     "text": [
      "False\n"
     ]
    }
   ],
   "source": [
    "print(set2.issubset(set1))"
   ]
  },
  {
   "cell_type": "code",
   "execution_count": 51,
   "id": "92d2ad2b",
   "metadata": {},
   "outputs": [
    {
     "name": "stdout",
     "output_type": "stream",
     "text": [
      "True\n",
      "False\n"
     ]
    }
   ],
   "source": [
    "# operator for subset..<=\n",
    "print(set4 <= set1)\n",
    "print(set2 <=set1)"
   ]
  },
  {
   "cell_type": "code",
   "execution_count": 53,
   "id": "b31a072d",
   "metadata": {},
   "outputs": [
    {
     "name": "stdout",
     "output_type": "stream",
     "text": [
      "False\n",
      "True\n"
     ]
    }
   ],
   "source": [
    "#superset is reverse of subset...means if set1 is superset of set2 only all the element in set2 are in set1\n",
    "\n",
    "print(set2.issuperset(set1))\n",
    "print(set1.issuperset(set4)) #mohan and parkavi in set1 "
   ]
  },
  {
   "cell_type": "code",
   "execution_count": 55,
   "id": "06849fd6",
   "metadata": {},
   "outputs": [
    {
     "name": "stdout",
     "output_type": "stream",
     "text": [
      "True\n",
      "False\n"
     ]
    }
   ],
   "source": [
    "# operator for superset..<=\n",
    "print(set1 >= set4)\n",
    "print(set2 >=set1)"
   ]
  },
  {
   "cell_type": "code",
   "execution_count": 56,
   "id": "d1f7f8ac",
   "metadata": {},
   "outputs": [],
   "source": [
    "#clear - it will clear all the elements in the set..\n",
    "set2.clear()"
   ]
  },
  {
   "cell_type": "code",
   "execution_count": 57,
   "id": "425a9118",
   "metadata": {},
   "outputs": [
    {
     "data": {
      "text/plain": [
       "set()"
      ]
     },
     "execution_count": 57,
     "metadata": {},
     "output_type": "execute_result"
    }
   ],
   "source": [
    "set2"
   ]
  },
  {
   "cell_type": "code",
   "execution_count": 60,
   "id": "497fd4ee",
   "metadata": {},
   "outputs": [],
   "source": [
    "set2 = set1.copy()"
   ]
  },
  {
   "cell_type": "code",
   "execution_count": 61,
   "id": "4fce77ad",
   "metadata": {},
   "outputs": [
    {
     "data": {
      "text/plain": [
       "{'ari', 'dinu', 'mohan', 'parkavi'}"
      ]
     },
     "execution_count": 61,
     "metadata": {},
     "output_type": "execute_result"
    }
   ],
   "source": [
    "set2"
   ]
  },
  {
   "cell_type": "code",
   "execution_count": null,
   "id": "c1059b17",
   "metadata": {},
   "outputs": [],
   "source": []
  }
 ],
 "metadata": {
  "kernelspec": {
   "display_name": "Python 3 (ipykernel)",
   "language": "python",
   "name": "python3"
  },
  "language_info": {
   "codemirror_mode": {
    "name": "ipython",
    "version": 3
   },
   "file_extension": ".py",
   "mimetype": "text/x-python",
   "name": "python",
   "nbconvert_exporter": "python",
   "pygments_lexer": "ipython3",
   "version": "3.11.5"
  }
 },
 "nbformat": 4,
 "nbformat_minor": 5
}

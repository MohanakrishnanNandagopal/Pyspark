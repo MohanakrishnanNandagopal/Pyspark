{
 "cells": [
  {
   "cell_type": "code",
   "execution_count": 1,
   "id": "357199c0",
   "metadata": {},
   "outputs": [],
   "source": [
    "#calculate the average height from the list of height"
   ]
  },
  {
   "cell_type": "code",
   "execution_count": 11,
   "id": "0e185caf",
   "metadata": {},
   "outputs": [
    {
     "name": "stdout",
     "output_type": "stream",
     "text": [
      "names: mohan\n",
      "['mohan']\n"
     ]
    }
   ],
   "source": [
    "name = input('names: ')\n",
    "names=[]\n",
    "names.append(name)\n",
    "print(names)"
   ]
  },
  {
   "cell_type": "code",
   "execution_count": 22,
   "id": "f63da658",
   "metadata": {},
   "outputs": [
    {
     "name": "stdout",
     "output_type": "stream",
     "text": [
      "enter height seperated by space :123 234 345 456 567\n",
      "['123', '234', '345', '456', '567']\n",
      "1725\n",
      "5\n",
      "345\n"
     ]
    }
   ],
   "source": [
    "names=input('enter height seperated by space :')\n",
    "name = []\n",
    "name = names.split(\" \")\n",
    "sum = 0\n",
    "count=0\n",
    "for i in name:\n",
    "    sum = sum + int(i)\n",
    "    count = count+1\n",
    "    average = sum/count\n",
    "print(name)\n",
    "print(sum)\n",
    "print(count)\n",
    "print(round(average))\n"
   ]
  },
  {
   "cell_type": "code",
   "execution_count": 25,
   "id": "055c344c",
   "metadata": {},
   "outputs": [
    {
     "name": "stdout",
     "output_type": "stream",
     "text": [
      "enter height seperated by space :123 234 345 456 567\n",
      "5\n",
      "345\n"
     ]
    }
   ],
   "source": [
    "heights = input('enter height seperated by space :')\n",
    "height_list = heights.split(' ')\n",
    "count = 0\n",
    "for i in height_list:\n",
    "    count=count+1\n",
    "print(count)\n",
    "\n",
    "for i in range(count):\n",
    "    height_list[i] = int(height_list[i])\n",
    "total = 0\n",
    "for person in height_list:\n",
    "    total+=person\n",
    "avg = total/count\n",
    "print(round(avg))\n",
    "    "
   ]
  },
  {
   "cell_type": "code",
   "execution_count": 55,
   "id": "737708b7",
   "metadata": {},
   "outputs": [
    {
     "name": "stdout",
     "output_type": "stream",
     "text": [
      "enter the number seperated by commas :123 234 345\n",
      "the maximum number in the list is 345\n"
     ]
    }
   ],
   "source": [
    "#excercise 2 \n",
    "#find the maximum number in the list without using max function\n",
    "\n",
    "list1 = input('enter the number seperated by commas :')\n",
    "list2 = list1.split(' ')\n",
    "for i in range(len(list2)):\n",
    "    list2[i] = int(list2[i])\n",
    "max = list2[0]\n",
    "for i in list2:\n",
    "    if i>max:\n",
    "        max = i\n",
    "print(f\"the maximum number in the list is {max}\")\n",
    "        \n",
    "    \n",
    "    "
   ]
  },
  {
   "cell_type": "code",
   "execution_count": null,
   "id": "2f60d437",
   "metadata": {},
   "outputs": [],
   "source": []
  }
 ],
 "metadata": {
  "kernelspec": {
   "display_name": "Python 3 (ipykernel)",
   "language": "python",
   "name": "python3"
  },
  "language_info": {
   "codemirror_mode": {
    "name": "ipython",
    "version": 3
   },
   "file_extension": ".py",
   "mimetype": "text/x-python",
   "name": "python",
   "nbconvert_exporter": "python",
   "pygments_lexer": "ipython3",
   "version": "3.11.5"
  }
 },
 "nbformat": 4,
 "nbformat_minor": 5
}

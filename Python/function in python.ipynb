{
 "cells": [
  {
   "cell_type": "code",
   "execution_count": 2,
   "id": "b2e3cd07",
   "metadata": {},
   "outputs": [],
   "source": [
    "#function in python\n",
    "#why function are used?\n",
    "#mainly for reusability the block of code"
   ]
  },
  {
   "cell_type": "code",
   "execution_count": 3,
   "id": "74b1601f",
   "metadata": {},
   "outputs": [],
   "source": [
    "#how to define a function?\n",
    "#syntax \n",
    "   #def function_name (parameteres):\n",
    "        #function body\n",
    "        #return expression\n",
    "#how to call a function / how to use the function\n",
    "#function_name()"
   ]
  },
  {
   "cell_type": "code",
   "execution_count": 5,
   "id": "1211bb83",
   "metadata": {},
   "outputs": [],
   "source": [
    "#types of function:\n",
    "#build in function  -- print(),max(),min()\n",
    "#user defined function -- the function defined by user\n"
   ]
  },
  {
   "cell_type": "code",
   "execution_count": 6,
   "id": "f07dee27",
   "metadata": {},
   "outputs": [],
   "source": [
    "#example for function\n",
    "def greet():\n",
    "    print('hi')\n",
    "    print('mohan')\n",
    "    "
   ]
  },
  {
   "cell_type": "code",
   "execution_count": 7,
   "id": "a9dc28ca",
   "metadata": {},
   "outputs": [
    {
     "name": "stdout",
     "output_type": "stream",
     "text": [
      "hi\n",
      "mohan\n",
      "hi\n",
      "mohan\n"
     ]
    }
   ],
   "source": [
    "#why no output for the above block..bcz we didn't call that function\n",
    "greet()\n",
    "greet()\n"
   ]
  },
  {
   "cell_type": "code",
   "execution_count": 8,
   "id": "39e990ec",
   "metadata": {},
   "outputs": [],
   "source": [
    "#the output will be displayed as per the function call\n"
   ]
  },
  {
   "cell_type": "code",
   "execution_count": null,
   "id": "1cec51ef",
   "metadata": {},
   "outputs": [],
   "source": [
    "#excersice 1\n"
   ]
  }
 ],
 "metadata": {
  "kernelspec": {
   "display_name": "Python 3 (ipykernel)",
   "language": "python",
   "name": "python3"
  },
  "language_info": {
   "codemirror_mode": {
    "name": "ipython",
    "version": 3
   },
   "file_extension": ".py",
   "mimetype": "text/x-python",
   "name": "python",
   "nbconvert_exporter": "python",
   "pygments_lexer": "ipython3",
   "version": "3.11.5"
  }
 },
 "nbformat": 4,
 "nbformat_minor": 5
}

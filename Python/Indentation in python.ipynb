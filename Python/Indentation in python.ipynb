{
 "cells": [
  {
   "cell_type": "code",
   "execution_count": 1,
   "id": "b060b8bf",
   "metadata": {},
   "outputs": [],
   "source": [
    "#Indentation in python :-\n",
    "\n",
    "# tab key or four space key - to mention the block of codes.. "
   ]
  },
  {
   "cell_type": "code",
   "execution_count": 2,
   "id": "ef4f0b76",
   "metadata": {},
   "outputs": [
    {
     "name": "stdout",
     "output_type": "stream",
     "text": [
      "1\n",
      "2\n",
      "3\n",
      "4\n",
      "5\n",
      "6\n",
      "7\n",
      "8\n",
      "9\n"
     ]
    }
   ],
   "source": [
    "for i in range(1,10):\n",
    "    print(i)"
   ]
  },
  {
   "cell_type": "code",
   "execution_count": 3,
   "id": "e93a66d8",
   "metadata": {},
   "outputs": [
    {
     "ename": "IndentationError",
     "evalue": "expected an indented block after 'for' statement on line 1 (2440085575.py, line 2)",
     "output_type": "error",
     "traceback": [
      "\u001b[1;36m  Cell \u001b[1;32mIn[3], line 2\u001b[1;36m\u001b[0m\n\u001b[1;33m    print(i)\u001b[0m\n\u001b[1;37m    ^\u001b[0m\n\u001b[1;31mIndentationError\u001b[0m\u001b[1;31m:\u001b[0m expected an indented block after 'for' statement on line 1\n"
     ]
    }
   ],
   "source": [
    "for i in range(1,10):\n",
    "print(i)"
   ]
  },
  {
   "cell_type": "code",
   "execution_count": 5,
   "id": "4723be0b",
   "metadata": {},
   "outputs": [
    {
     "name": "stdout",
     "output_type": "stream",
     "text": [
      "mohan\n",
      "mohan\n",
      "mohan\n",
      "mohan\n",
      "mohan\n",
      "mohan\n",
      "mohan\n",
      "mohan\n",
      "mohan\n",
      "mathi\n"
     ]
    }
   ],
   "source": [
    "for i in range(1,10):\n",
    "    print(\"mohan\")\n",
    "print(\"mathi\")"
   ]
  },
  {
   "cell_type": "code",
   "execution_count": 6,
   "id": "74faecd8",
   "metadata": {},
   "outputs": [
    {
     "name": "stdout",
     "output_type": "stream",
     "text": [
      "mohan\n",
      "mathi\n",
      "mohan\n",
      "mathi\n",
      "mohan\n",
      "mathi\n",
      "mohan\n",
      "mathi\n",
      "mohan\n",
      "mathi\n",
      "mohan\n",
      "mathi\n",
      "mohan\n",
      "mathi\n",
      "mohan\n",
      "mathi\n",
      "mohan\n",
      "mathi\n"
     ]
    }
   ],
   "source": [
    "for i in range(1,10):\n",
    "    print(\"mohan\")\n",
    "    print(\"mathi\")"
   ]
  },
  {
   "cell_type": "code",
   "execution_count": 1,
   "id": "9f2b86df",
   "metadata": {},
   "outputs": [
    {
     "name": "stdout",
     "output_type": "stream",
     "text": [
      "------"
     ]
    }
   ],
   "source": []
  },
  {
   "cell_type": "code",
   "execution_count": 3,
   "id": "41f29684",
   "metadata": {},
   "outputs": [
    {
     "name": "stdout",
     "output_type": "stream",
     "text": [
      "-----"
     ]
    }
   ],
   "source": [
    "import random as rd\n",
    "words = ['apple','mango','appa']\n",
    "com_select = rd.choice(words)\n",
    "for i in range(len(com_select)):\n",
    "    print('-',end = '')"
   ]
  },
  {
   "cell_type": "code",
   "execution_count": 4,
   "id": "e9e74d6e",
   "metadata": {},
   "outputs": [
    {
     "name": "stdout",
     "output_type": "stream",
     "text": [
      "True\n"
     ]
    }
   ],
   "source": [
    "word = 'mohan'\n",
    "word."
   ]
  }
 ],
 "metadata": {
  "kernelspec": {
   "display_name": "Python 3 (ipykernel)",
   "language": "python",
   "name": "python3"
  },
  "language_info": {
   "codemirror_mode": {
    "name": "ipython",
    "version": 3
   },
   "file_extension": ".py",
   "mimetype": "text/x-python",
   "name": "python",
   "nbconvert_exporter": "python",
   "pygments_lexer": "ipython3",
   "version": "3.11.5"
  }
 },
 "nbformat": 4,
 "nbformat_minor": 5
}

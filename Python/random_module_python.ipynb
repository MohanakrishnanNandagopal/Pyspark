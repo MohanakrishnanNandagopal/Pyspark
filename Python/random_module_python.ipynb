{
 "cells": [
  {
   "cell_type": "code",
   "execution_count": 1,
   "id": "d5cd8bfc",
   "metadata": {},
   "outputs": [],
   "source": [
    "# there is a library in python for random \n"
   ]
  },
  {
   "cell_type": "code",
   "execution_count": 3,
   "id": "44b76eae",
   "metadata": {},
   "outputs": [],
   "source": [
    "import random as rd"
   ]
  },
  {
   "cell_type": "code",
   "execution_count": 6,
   "id": "11b0ab1b",
   "metadata": {},
   "outputs": [],
   "source": [
    "#function in random module \n",
    "# 1) randint(a,b) -- include the value a and b\n",
    "# 2) randrange(a,b) -- include the value a not b\n",
    "# 3) random () - in between 0.0 to 1.0 both values are excluded..\n"
   ]
  },
  {
   "cell_type": "code",
   "execution_count": 20,
   "id": "8774a396",
   "metadata": {},
   "outputs": [
    {
     "name": "stdout",
     "output_type": "stream",
     "text": [
      "3\n"
     ]
    }
   ],
   "source": [
    "a = rd.randint(1,6)\n",
    "print(a)"
   ]
  },
  {
   "cell_type": "code",
   "execution_count": 22,
   "id": "834314ba",
   "metadata": {},
   "outputs": [
    {
     "name": "stdout",
     "output_type": "stream",
     "text": [
      "3\n"
     ]
    }
   ],
   "source": [
    "b = rd.randrange(1,6) # it will exclude the value 6...\n",
    "print(b)"
   ]
  },
  {
   "cell_type": "code",
   "execution_count": 25,
   "id": "2c2a533d",
   "metadata": {},
   "outputs": [
    {
     "data": {
      "text/plain": [
       "0.07438196877275705"
      ]
     },
     "execution_count": 25,
     "metadata": {},
     "output_type": "execute_result"
    }
   ],
   "source": [
    "rd.random() # it will gives the floating point value in between 0.0.. to 0.9999.."
   ]
  },
  {
   "cell_type": "code",
   "execution_count": 26,
   "id": "ddb89b5f",
   "metadata": {},
   "outputs": [
    {
     "data": {
      "text/plain": [
       "2.904786955008377"
      ]
     },
     "execution_count": 26,
     "metadata": {},
     "output_type": "execute_result"
    }
   ],
   "source": [
    "rd.uniform(2,3) # it will gives the floating point value in between the specified range.."
   ]
  },
  {
   "cell_type": "code",
   "execution_count": 34,
   "id": "b3638cfd",
   "metadata": {},
   "outputs": [
    {
     "data": {
      "text/plain": [
       "'aki'"
      ]
     },
     "execution_count": 34,
     "metadata": {},
     "output_type": "execute_result"
    }
   ],
   "source": [
    "l1 = ['mohan','papu','ari','aki'] # it will print the random choice form the iterables..\n",
    "rd.choice(l1)"
   ]
  },
  {
   "cell_type": "code",
   "execution_count": 38,
   "id": "302dd6e4",
   "metadata": {},
   "outputs": [
    {
     "name": "stdout",
     "output_type": "stream",
     "text": [
      "['ari', 'papu', 'aki', 'mohan']\n"
     ]
    }
   ],
   "source": [
    "rd.shuffle(l1) # it will shuffle the values in the iterables...\n",
    "print(l1)"
   ]
  },
  {
   "cell_type": "code",
   "execution_count": 39,
   "id": "ecbade2d",
   "metadata": {},
   "outputs": [],
   "source": [
    "# refer official python page to know more function..."
   ]
  },
  {
   "cell_type": "code",
   "execution_count": null,
   "id": "2d54e28d",
   "metadata": {},
   "outputs": [],
   "source": [
    "#Excercise 1:\n"
   ]
  },
  {
   "cell_type": "code",
   "execution_count": 48,
   "id": "fda52ff3",
   "metadata": {},
   "outputs": [
    {
     "name": "stdout",
     "output_type": "stream",
     "text": [
      "2\n",
      "tail\n"
     ]
    }
   ],
   "source": [
    "choice = rd.randint(1,3)\n",
    "print(choice)\n",
    "if choice == 1:\n",
    "    print('head')\n",
    "else:\n",
    "    print('tail')"
   ]
  },
  {
   "cell_type": "code",
   "execution_count": 52,
   "id": "b4ceeae6",
   "metadata": {},
   "outputs": [
    {
     "name": "stdout",
     "output_type": "stream",
     "text": [
      "enter names seperated by commas : mohan,parkavi,aki,arun,gowtham\n",
      "mohan want to pay the bill\n"
     ]
    }
   ],
   "source": [
    "#Excercise 2 \n",
    "names = input('enter names seperated by commas : ')\n",
    "l1 = names.split(',')\n",
    "payer = rd.choice(l1)\n",
    "print(payer + ' want to pay the bill')"
   ]
  },
  {
   "cell_type": "code",
   "execution_count": 53,
   "id": "14b66c01",
   "metadata": {},
   "outputs": [],
   "source": [
    "#index error - list index out of range"
   ]
  },
  {
   "cell_type": "code",
   "execution_count": 54,
   "id": "360fc439",
   "metadata": {},
   "outputs": [
    {
     "ename": "IndexError",
     "evalue": "list index out of range",
     "output_type": "error",
     "traceback": [
      "\u001b[1;31m---------------------------------------------------------------------------\u001b[0m",
      "\u001b[1;31mIndexError\u001b[0m                                Traceback (most recent call last)",
      "Cell \u001b[1;32mIn[54], line 2\u001b[0m\n\u001b[0;32m      1\u001b[0m names \u001b[38;5;241m=\u001b[39m [\u001b[38;5;124m'\u001b[39m\u001b[38;5;124mmohan\u001b[39m\u001b[38;5;124m'\u001b[39m,\u001b[38;5;124m'\u001b[39m\u001b[38;5;124mpapu\u001b[39m\u001b[38;5;124m'\u001b[39m,\u001b[38;5;124m'\u001b[39m\u001b[38;5;124mpavi\u001b[39m\u001b[38;5;124m'\u001b[39m]\n\u001b[1;32m----> 2\u001b[0m \u001b[38;5;28mprint\u001b[39m(names[\u001b[38;5;241m3\u001b[39m])\n",
      "\u001b[1;31mIndexError\u001b[0m: list index out of range"
     ]
    }
   ],
   "source": [
    "names = ['mohan','papu','pavi']\n",
    "print(names[3])"
   ]
  },
  {
   "cell_type": "code",
   "execution_count": null,
   "id": "3c1f7ad2",
   "metadata": {},
   "outputs": [],
   "source": []
  }
 ],
 "metadata": {
  "kernelspec": {
   "display_name": "Python 3 (ipykernel)",
   "language": "python",
   "name": "python3"
  },
  "language_info": {
   "codemirror_mode": {
    "name": "ipython",
    "version": 3
   },
   "file_extension": ".py",
   "mimetype": "text/x-python",
   "name": "python",
   "nbconvert_exporter": "python",
   "pygments_lexer": "ipython3",
   "version": "3.11.5"
  }
 },
 "nbformat": 4,
 "nbformat_minor": 5
}

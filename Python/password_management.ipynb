{
 "cells": [
  {
   "cell_type": "code",
   "execution_count": 1,
   "id": "71957534",
   "metadata": {},
   "outputs": [
    {
     "name": "stdout",
     "output_type": "stream",
     "text": [
      "enter number :2\n",
      "\n",
      "enter number :3\n",
      "\n",
      "enter number :4\n",
      "\n",
      "password is  66yBr*</:\n",
      "y</:r*B66\n"
     ]
    }
   ],
   "source": [
    "import random as rd\n",
    "import string as st\n",
    "password = ''\n",
    "number = int(input('enter number :'))\n",
    "for i in range(number):\n",
    "    randnum = rd.randrange(0,9)\n",
    "    password = password+str(randnum)\n",
    "letter = int(input('\\nenter number :'))\n",
    "for i in range(letter):\n",
    "    randlet = rd.choice(st.ascii_letters)\n",
    "    password = password+str(randlet)\n",
    "special = int(input('\\nenter number :'))\n",
    "spl_char = \"!@#$%^&*()_+[]{}|;:,.<>?/~`\"\n",
    "for i in range(special):\n",
    "    randspl = rd.choice(spl_char)\n",
    "    password = password+str(randspl)\n",
    "print('\\npassword is ',password)\n",
    "shuffle_pass = list(password) #change from string to list since string is immutable\n",
    "rd.shuffle(shuffle_pass)\n",
    "print(''.join(shuffle_pass)) # join method is used to join the list to string with the interval of no space ''\n",
    "\n",
    "    \n",
    "#print('\\nyour shuffle password is ',shuffle_password)"
   ]
  },
  {
   "cell_type": "code",
   "execution_count": null,
   "id": "4398da19",
   "metadata": {},
   "outputs": [],
   "source": []
  }
 ],
 "metadata": {
  "kernelspec": {
   "display_name": "Python 3 (ipykernel)",
   "language": "python",
   "name": "python3"
  },
  "language_info": {
   "codemirror_mode": {
    "name": "ipython",
    "version": 3
   },
   "file_extension": ".py",
   "mimetype": "text/x-python",
   "name": "python",
   "nbconvert_exporter": "python",
   "pygments_lexer": "ipython3",
   "version": "3.11.5"
  }
 },
 "nbformat": 4,
 "nbformat_minor": 5
}

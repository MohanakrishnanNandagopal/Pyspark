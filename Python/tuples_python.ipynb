{
 "cells": [
  {
   "cell_type": "code",
   "execution_count": 1,
   "id": "9cbcf1f3",
   "metadata": {},
   "outputs": [],
   "source": [
    "#tuples in python\n",
    "\n",
    "# 1) same as list instead of [] use ()\n",
    "# 2) tuples are immutable\n"
   ]
  },
  {
   "cell_type": "code",
   "execution_count": 16,
   "id": "24d63cec",
   "metadata": {},
   "outputs": [
    {
     "data": {
      "text/plain": [
       "(12, -6, 'ture', True, 'papu')"
      ]
     },
     "execution_count": 16,
     "metadata": {},
     "output_type": "execute_result"
    }
   ],
   "source": [
    "tuple1 = (12,-6,'ture',True,'papu')\n",
    "tuple1"
   ]
  },
  {
   "cell_type": "code",
   "execution_count": 17,
   "id": "ce31a573",
   "metadata": {},
   "outputs": [],
   "source": [
    "#accessing elements in tuple"
   ]
  },
  {
   "cell_type": "code",
   "execution_count": 22,
   "id": "e0c484fc",
   "metadata": {},
   "outputs": [
    {
     "name": "stdout",
     "output_type": "stream",
     "text": [
      "(-6, 'ture')\n"
     ]
    }
   ],
   "source": [
    "print(tuple1[1:3])"
   ]
  },
  {
   "cell_type": "code",
   "execution_count": 23,
   "id": "7a087af0",
   "metadata": {},
   "outputs": [],
   "source": [
    "tuple2 =(5)"
   ]
  },
  {
   "cell_type": "code",
   "execution_count": 24,
   "id": "989e6d39",
   "metadata": {},
   "outputs": [
    {
     "name": "stdout",
     "output_type": "stream",
     "text": [
      "<class 'tuple'>\n"
     ]
    }
   ],
   "source": [
    "print(type(tuple1))"
   ]
  },
  {
   "cell_type": "code",
   "execution_count": 25,
   "id": "8cf6f5fb",
   "metadata": {},
   "outputs": [
    {
     "name": "stdout",
     "output_type": "stream",
     "text": [
      "<class 'int'>\n"
     ]
    }
   ],
   "source": [
    "print(type(tuple2))# for one element in tuple we have to give comma otherwise it will consider as an int value"
   ]
  },
  {
   "cell_type": "code",
   "execution_count": 26,
   "id": "bbac70ca",
   "metadata": {},
   "outputs": [],
   "source": [
    "tuple3 = (5,)"
   ]
  },
  {
   "cell_type": "code",
   "execution_count": 27,
   "id": "2c680a1b",
   "metadata": {},
   "outputs": [
    {
     "name": "stdout",
     "output_type": "stream",
     "text": [
      "<class 'tuple'>\n"
     ]
    }
   ],
   "source": [
    "print(type(tuple3))"
   ]
  },
  {
   "cell_type": "code",
   "execution_count": 28,
   "id": "05a67fea",
   "metadata": {},
   "outputs": [
    {
     "name": "stdout",
     "output_type": "stream",
     "text": [
      "1\n"
     ]
    }
   ],
   "source": [
    "print(len(tuple3))"
   ]
  },
  {
   "cell_type": "code",
   "execution_count": 29,
   "id": "8a214e38",
   "metadata": {},
   "outputs": [],
   "source": [
    "#since tuple is immutable we cannot add or remove or modify the elements"
   ]
  },
  {
   "cell_type": "code",
   "execution_count": 30,
   "id": "17c40013",
   "metadata": {},
   "outputs": [
    {
     "ename": "TypeError",
     "evalue": "'tuple' object does not support item assignment",
     "output_type": "error",
     "traceback": [
      "\u001b[1;31m---------------------------------------------------------------------------\u001b[0m",
      "\u001b[1;31mTypeError\u001b[0m                                 Traceback (most recent call last)",
      "Cell \u001b[1;32mIn[30], line 1\u001b[0m\n\u001b[1;32m----> 1\u001b[0m tuple1[\u001b[38;5;241m2\u001b[39m] \u001b[38;5;241m=\u001b[39m \u001b[38;5;124m'\u001b[39m\u001b[38;5;124mmohan\u001b[39m\u001b[38;5;124m'\u001b[39m\n",
      "\u001b[1;31mTypeError\u001b[0m: 'tuple' object does not support item assignment"
     ]
    }
   ],
   "source": [
    "tuple1[2] = 'mohan'"
   ]
  },
  {
   "cell_type": "code",
   "execution_count": 31,
   "id": "c61191ef",
   "metadata": {},
   "outputs": [
    {
     "ename": "AttributeError",
     "evalue": "'tuple' object has no attribute 'insert'",
     "output_type": "error",
     "traceback": [
      "\u001b[1;31m---------------------------------------------------------------------------\u001b[0m",
      "\u001b[1;31mAttributeError\u001b[0m                            Traceback (most recent call last)",
      "Cell \u001b[1;32mIn[31], line 1\u001b[0m\n\u001b[1;32m----> 1\u001b[0m tuple1\u001b[38;5;241m.\u001b[39minsert(\u001b[38;5;241m2\u001b[39m,\u001b[38;5;241m5\u001b[39m)\n",
      "\u001b[1;31mAttributeError\u001b[0m: 'tuple' object has no attribute 'insert'"
     ]
    }
   ],
   "source": [
    "tuple1.insert(2,5)"
   ]
  },
  {
   "cell_type": "code",
   "execution_count": 32,
   "id": "9d48e582",
   "metadata": {},
   "outputs": [],
   "source": [
    "#nested tuple "
   ]
  },
  {
   "cell_type": "code",
   "execution_count": 38,
   "id": "121d272f",
   "metadata": {},
   "outputs": [],
   "source": [
    "tuple4 = (tuple1,tuple2,tuple3)\n",
    "tuple5 = tuple1  + tuple3"
   ]
  },
  {
   "cell_type": "code",
   "execution_count": 34,
   "id": "d01b5895",
   "metadata": {},
   "outputs": [
    {
     "name": "stdout",
     "output_type": "stream",
     "text": [
      "((12, -6, 'ture', True, 'papu'), 5, (5,))\n"
     ]
    }
   ],
   "source": [
    "print(tuple4)"
   ]
  },
  {
   "cell_type": "code",
   "execution_count": 39,
   "id": "6b2fdcbc",
   "metadata": {},
   "outputs": [
    {
     "name": "stdout",
     "output_type": "stream",
     "text": [
      "(12, -6, 'ture', True, 'papu', 5)\n"
     ]
    }
   ],
   "source": [
    "print(tuple5)"
   ]
  },
  {
   "cell_type": "code",
   "execution_count": 41,
   "id": "fa64c8a2",
   "metadata": {},
   "outputs": [
    {
     "name": "stdout",
     "output_type": "stream",
     "text": [
      "0\n"
     ]
    }
   ],
   "source": [
    "tuple6 = (1,5,100,50,11,0)\n",
    "print(min(tuple6))"
   ]
  },
  {
   "cell_type": "code",
   "execution_count": 43,
   "id": "02795813",
   "metadata": {},
   "outputs": [
    {
     "name": "stdout",
     "output_type": "stream",
     "text": [
      "100\n"
     ]
    }
   ],
   "source": [
    "print(max(tuple6))"
   ]
  },
  {
   "cell_type": "code",
   "execution_count": 44,
   "id": "966ce4dd",
   "metadata": {},
   "outputs": [],
   "source": [
    "#converting list into tuple and tuple to list"
   ]
  },
  {
   "cell_type": "code",
   "execution_count": 45,
   "id": "0cb3c823",
   "metadata": {},
   "outputs": [],
   "source": [
    "l1 = list(tuple6)"
   ]
  },
  {
   "cell_type": "code",
   "execution_count": 46,
   "id": "c55bdc2a",
   "metadata": {},
   "outputs": [
    {
     "data": {
      "text/plain": [
       "[1, 5, 100, 50, 11, 0]"
      ]
     },
     "execution_count": 46,
     "metadata": {},
     "output_type": "execute_result"
    }
   ],
   "source": [
    "l1"
   ]
  },
  {
   "cell_type": "code",
   "execution_count": 47,
   "id": "9f9f2430",
   "metadata": {},
   "outputs": [],
   "source": [
    "l2 = ['mohan',25,'papu','/']"
   ]
  },
  {
   "cell_type": "code",
   "execution_count": 48,
   "id": "82a1b02b",
   "metadata": {},
   "outputs": [],
   "source": [
    "tuple7 = tuple(l2)"
   ]
  },
  {
   "cell_type": "code",
   "execution_count": 49,
   "id": "f96a5f17",
   "metadata": {},
   "outputs": [
    {
     "data": {
      "text/plain": [
       "('mohan', 25, 'papu', '/')"
      ]
     },
     "execution_count": 49,
     "metadata": {},
     "output_type": "execute_result"
    }
   ],
   "source": [
    "tuple7"
   ]
  },
  {
   "cell_type": "code",
   "execution_count": 50,
   "id": "3adf4f88",
   "metadata": {},
   "outputs": [],
   "source": [
    "#refer other function related to tuples in the python official pages"
   ]
  },
  {
   "cell_type": "code",
   "execution_count": null,
   "id": "feb7b73f",
   "metadata": {},
   "outputs": [],
   "source": []
  }
 ],
 "metadata": {
  "kernelspec": {
   "display_name": "Python 3 (ipykernel)",
   "language": "python",
   "name": "python3"
  },
  "language_info": {
   "codemirror_mode": {
    "name": "ipython",
    "version": 3
   },
   "file_extension": ".py",
   "mimetype": "text/x-python",
   "name": "python",
   "nbconvert_exporter": "python",
   "pygments_lexer": "ipython3",
   "version": "3.11.5"
  }
 },
 "nbformat": 4,
 "nbformat_minor": 5
}

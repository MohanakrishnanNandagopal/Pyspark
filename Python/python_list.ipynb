{
 "cells": [
  {
   "cell_type": "code",
   "execution_count": 1,
   "id": "ffdeb518",
   "metadata": {},
   "outputs": [],
   "source": [
    "#list in python "
   ]
  },
  {
   "cell_type": "code",
   "execution_count": 17,
   "id": "d29e6372",
   "metadata": {},
   "outputs": [
    {
     "name": "stdout",
     "output_type": "stream",
     "text": [
      "False\n",
      "True\n",
      "mohan\n",
      "[1, 2, 3, 'mohan', 26, 1.73, 'papu']\n",
      "True\n",
      "True\n",
      "['bb', ['ccc', 'ddd'], 'ee', 'ff']\n",
      "ee\n",
      "ii\n"
     ]
    }
   ],
   "source": [
    "#characteristics of list in python\n",
    "# 1) list are ordered - list have the same elements in a different oreder are not the same:\n",
    "a = [1,2,3,4]\n",
    "b = [2,1,3,4]\n",
    "print(a == b) #False\n",
    "c = [2,1,3,4]\n",
    "d = [2,1,3,4]\n",
    "print(c == d) #True\n",
    "\n",
    "# 2) list can contain arbitary objects - list may contain same or different types of datatype objects and can contain multiple times..\n",
    "    # even contains function,classes,modules..and can contain any number of objects from zero to as your computer memory.\n",
    "\n",
    "a = [1,3,4,5,6]\n",
    "b = [1,7.5,True,'mohan']\n",
    "c = ['papu','mohan','papu']\n",
    "def d():\n",
    "    print(\"hi mohan \")\n",
    "def e():\n",
    "    print(\"hi papu \")\n",
    "f = [d,e]\n",
    "g = []\n",
    "h = [1,2,3,4,5,100]\n",
    "\n",
    "# 3) list elements can be accessed by index\n",
    "\n",
    "i = [1,2,3,'mohan',26,1.73,'papu']\n",
    "print(i[3])\n",
    "print(i[:])\n",
    "print(i == i[:])\n",
    "j = i[:]\n",
    "print(i ==j)\n",
    "\n",
    "# 4) list can be nested to arbitrary depth\n",
    "k = ['a',['bb',['ccc','ddd'],'ee','ff'],'g',['hh','ii'],'j']\n",
    "print(k[1])\n",
    "print(k[1][2])\n",
    "print(k[3][1])\n",
    "\n",
    "# 5) list are mutable - we can add and modify and remove the elements in the list using some predefined functions..\n",
    "\n",
    "# 6) list are dynamic - when items are added to a list,it grows as needed..\n"
   ]
  },
  {
   "cell_type": "code",
   "execution_count": 34,
   "id": "dac35c01",
   "metadata": {},
   "outputs": [
    {
     "name": "stdout",
     "output_type": "stream",
     "text": [
      "7\n",
      "[10, 20, -10, -20, 30, 40]\n",
      "[10, 20, -10, -20, 30, 40]\n",
      "[20, -10, -20, 30, 40, -50]\n",
      "[-10, -20, 30, 40]\n",
      "[10, 20, -10, -20, 30, 40, -50]\n",
      "[10, -10, 30, -50]\n",
      "[-50, 40, 30, -20, -10, 20, 10]\n"
     ]
    }
   ],
   "source": [
    "# accessing list elements using index:\n",
    "number = [10,20,-10,-20,30,40,-50]\n",
    "print(len(number))\n",
    "print(number[0:6])\n",
    "print(number[:6])\n",
    "print(number[1:])\n",
    "print(number[2:-1])# it include the first number and exclude the last number\n",
    "print(number[:])\n",
    "print(number[::2]) # it will skip one step\n",
    "print(number[::-1])# it will reverse the list"
   ]
  },
  {
   "cell_type": "code",
   "execution_count": 40,
   "id": "f2e538fe",
   "metadata": {},
   "outputs": [
    {
     "name": "stdout",
     "output_type": "stream",
     "text": [
      "[-50, -20, -10, 10, 20, 30, 40]\n",
      "[40, 30, 20, 10, -10, -20, -50]\n"
     ]
    }
   ],
   "source": [
    "#sorting in list:\n",
    "number = [10,20,-10,-20,30,40,-50]\n",
    "number.sort() # no return type for this method sort...so sort first and print and sort can't do in mixed datatype list\n",
    "print(number)\n",
    "print(number[::-1])"
   ]
  },
  {
   "cell_type": "code",
   "execution_count": 41,
   "id": "9dc4677d",
   "metadata": {},
   "outputs": [
    {
     "name": "stdout",
     "output_type": "stream",
     "text": [
      "40\n"
     ]
    }
   ],
   "source": [
    "print(max(number))"
   ]
  },
  {
   "cell_type": "code",
   "execution_count": 42,
   "id": "023b3e29",
   "metadata": {},
   "outputs": [
    {
     "name": "stdout",
     "output_type": "stream",
     "text": [
      "-50\n"
     ]
    }
   ],
   "source": [
    "print(min(number))"
   ]
  },
  {
   "cell_type": "code",
   "execution_count": 51,
   "id": "5685f16f",
   "metadata": {},
   "outputs": [
    {
     "name": "stdout",
     "output_type": "stream",
     "text": [
      "[-50, -20, -10, -40, -40, -40, -40, -40, 10, 20, 30, 40, 60, 60, 60, 31, 32, 33, 34, 35, 31, 32, 33, 34, 35]\n"
     ]
    }
   ],
   "source": [
    "#add elements in the list...using 3 methods..\n",
    "# 1) append -- it will add exactly one element at the end of the list..(only one arguments)\n",
    "number.append(60)\n",
    "print(number)\n",
    "# 2)insert - it will add the elements in the respective index.(two arguments 1st index position 2nd value)\n",
    "number.insert(3,-40)\n",
    "print(number)\n",
    "# 3) extends - it will add multiple elements in the list at the end.(only one arguments that can be list or tuple or dict or set)\n",
    "number.extend([31,32,33,34,35])\n",
    "print(number)\n",
    "\n"
   ]
  },
  {
   "cell_type": "code",
   "execution_count": 52,
   "id": "6e18e72d",
   "metadata": {},
   "outputs": [
    {
     "name": "stdout",
     "output_type": "stream",
     "text": [
      "[-50, -20, -10, 0, -40, -40, -40, -40, 10, 20, 30, 40, 60, 60, 60, 31, 32, 33, 34, 35, 31, 32, 33, 34, 35]\n"
     ]
    }
   ],
   "source": [
    "#modify the elements in the list using assignment operators(=)..\n",
    "number[3] = 0\n",
    "print(number)"
   ]
  },
  {
   "cell_type": "code",
   "execution_count": 53,
   "id": "62108f2f",
   "metadata": {},
   "outputs": [
    {
     "name": "stdout",
     "output_type": "stream",
     "text": [
      "[-50, -20, -10, 0, 1, 2, 3, 4, -40, 10, 20, 30, 40, 60, 60, 60, 31, 32, 33, 34, 35, 31, 32, 33, 34, 35]\n"
     ]
    }
   ],
   "source": [
    "number[4:7] = [1,2,3,4]\n",
    "print(number)"
   ]
  },
  {
   "cell_type": "code",
   "execution_count": 56,
   "id": "72fd23d1",
   "metadata": {},
   "outputs": [
    {
     "data": {
      "text/plain": [
       "60"
      ]
     },
     "execution_count": 56,
     "metadata": {},
     "output_type": "execute_result"
    }
   ],
   "source": [
    "#remove the elements from the lists using two methods(pop and remove)\n",
    "# 1) remove - it will remove the mentioned value in the list\n",
    "number.remove(60) # if the list has duplicate value it will remove the first element.\n",
    "print(number)\n",
    "# 2) pop -- it will remove the last elements and return that elements of the list.\n",
    "number.pop()\n",
    "# to remove the elements at the specific position in the list..by giving arguments..\n",
    "number.pop(13)"
   ]
  },
  {
   "cell_type": "code",
   "execution_count": 57,
   "id": "0396f023",
   "metadata": {},
   "outputs": [],
   "source": [
    "#refer other function/methods in python official page.."
   ]
  },
  {
   "cell_type": "code",
   "execution_count": null,
   "id": "857195ca",
   "metadata": {},
   "outputs": [],
   "source": []
  }
 ],
 "metadata": {
  "kernelspec": {
   "display_name": "Python 3 (ipykernel)",
   "language": "python",
   "name": "python3"
  },
  "language_info": {
   "codemirror_mode": {
    "name": "ipython",
    "version": 3
   },
   "file_extension": ".py",
   "mimetype": "text/x-python",
   "name": "python",
   "nbconvert_exporter": "python",
   "pygments_lexer": "ipython3",
   "version": "3.11.5"
  }
 },
 "nbformat": 4,
 "nbformat_minor": 5
}
